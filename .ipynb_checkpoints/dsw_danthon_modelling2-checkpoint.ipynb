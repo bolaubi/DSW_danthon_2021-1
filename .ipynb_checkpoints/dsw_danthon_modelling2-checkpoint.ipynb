{
 "cells": [
  {
   "cell_type": "code",
   "execution_count": 1,
   "id": "painful-guarantee",
   "metadata": {},
   "outputs": [],
   "source": [
    "import numpy as np\n",
    "import pandas as pd\n",
    "import matplotlib.pyplot as plt\n",
    "import seaborn as sns\n",
    "\n",
    "from sklearn.model_selection import cross_val_score, GridSearchCV, RandomizedSearchCV, train_test_split, StratifiedKFold\n",
    "from sklearn.calibration import CalibratedClassifierCV\n",
    "from sklearn.compose import ColumnTransformer\n",
    "from sklearn.ensemble import VotingClassifier\n",
    "from sklearn.naive_bayes import GaussianNB\n",
    "from sklearn.metrics import classification_report, plot_precision_recall_curve, plot_roc_curve, roc_curve, confusion_matrix\n",
    "from sklearn.feature_selection import RFE\n",
    "\n",
    "from sklearn.preprocessing import StandardScaler, PolynomialFeatures, KBinsDiscretizer\n",
    "from imblearn.pipeline import Pipeline\n",
    "from imblearn.over_sampling import SMOTE\n",
    "from sklearn.impute import SimpleImputer\n",
    "\n",
    "from sklearn.linear_model import LogisticRegression\n",
    "from sklearn.ensemble import VotingClassifier\n",
    "from sklearn.tree import DecisionTreeClassifier\n",
    "from sklearn.neighbors import KNeighborsClassifier\n",
    "\n",
    "from sklearn.metrics import classification_report\n",
    "\n",
    "import datetime as dt\n",
    "\n",
    "pd.set_option('display.max_rows', 500)\n",
    "pd.set_option('display.max_columns', 500)"
   ]
  },
  {
   "cell_type": "markdown",
   "id": "silver-material",
   "metadata": {},
   "source": [
    "## Continue modelling"
   ]
  },
  {
   "cell_type": "code",
   "execution_count": null,
   "id": "revolutionary-ireland",
   "metadata": {},
   "outputs": [],
   "source": [
    "ready = pd.read_csv('new_ready.csv').drop(['lat', 'lon'],axis=1)\n",
    "ready"
   ]
  },
  {
   "cell_type": "code",
   "execution_count": null,
   "id": "extra-shock",
   "metadata": {},
   "outputs": [],
   "source": [
    "test = pd.read_csv('new_test.csv')\n",
    "test"
   ]
  },
  {
   "cell_type": "code",
   "execution_count": null,
   "id": "linear-array",
   "metadata": {},
   "outputs": [],
   "source": [
    "features = 'x y z day month hour_y'.split()\n",
    "label = 'Labels'\n",
    "\n",
    "X = ready[features]\n",
    "y = ready[label]\n",
    "\n",
    "X_train_val, X_test, y_train_val, y_test = train_test_split(X, y, stratify=y, random_state=24, test_size=.2)"
   ]
  },
  {
   "cell_type": "code",
   "execution_count": null,
   "id": "advised-times",
   "metadata": {},
   "outputs": [],
   "source": [
    "kbins = KBinsDiscretizer(n_bins=3, encode='ordinal', strategy='uniform')\n",
    "\n",
    "transformer = ColumnTransformer([\n",
    "        ('poly', PolynomialFeatures(degree=2, include_bias=False), ['x','y','z']),\n",
    "        ('kbins', kbins, ['day','hour_y'])\n",
    "], remainder='passthrough')\n",
    "\n",
    "logit_smo = Pipeline([\n",
    "    ('trans', transformer),\n",
    "    ('smote', SMOTE(random_state=2020)),\n",
    "    ('clf', LogisticRegression(random_state=2020))\n",
    "])"
   ]
  },
  {
   "cell_type": "code",
   "execution_count": null,
   "id": "split-syntax",
   "metadata": {},
   "outputs": [],
   "source": [
    "param_space = {\n",
    "    'trans__poly__degree': [2,3],\n",
    "    'smote__k_neighbors': [3,4,5],\n",
    "    'clf__C': [0.01,0.1,1],\n",
    "    'clf__solver': ['lbfgs', 'liblinear']\n",
    "}"
   ]
  },
  {
   "cell_type": "code",
   "execution_count": null,
   "id": "challenging-boulder",
   "metadata": {},
   "outputs": [],
   "source": [
    "skf = StratifiedKFold()\n",
    "\n",
    "logit_grid = GridSearchCV(\n",
    "    logit_smo,\n",
    "    param_grid=param_space,\n",
    "    scoring='f1',\n",
    "    cv = skf,\n",
    "    n_jobs=-1,\n",
    "    verbose=2\n",
    " )"
   ]
  },
  {
   "cell_type": "code",
   "execution_count": null,
   "id": "hindu-savannah",
   "metadata": {},
   "outputs": [],
   "source": [
    "# logit_grid.fit(X_train_val, y_train_val)"
   ]
  },
  {
   "cell_type": "code",
   "execution_count": null,
   "id": "breeding-alcohol",
   "metadata": {},
   "outputs": [],
   "source": [
    "logit_grid.best_params_"
   ]
  },
  {
   "cell_type": "code",
   "execution_count": null,
   "id": "waiting-arrival",
   "metadata": {},
   "outputs": [],
   "source": [
    "logit_tuned = logit_grid.best_estimator_"
   ]
  },
  {
   "cell_type": "code",
   "execution_count": null,
   "id": "scientific-white",
   "metadata": {},
   "outputs": [],
   "source": [
    "logit_tuned.fit(X_train_val, y_train_val)"
   ]
  },
  {
   "cell_type": "code",
   "execution_count": null,
   "id": "referenced-mother",
   "metadata": {},
   "outputs": [],
   "source": [
    "logit_smo.fit(X_train_val, y_train_val)"
   ]
  },
  {
   "cell_type": "code",
   "execution_count": null,
   "id": "deadly-understanding",
   "metadata": {},
   "outputs": [],
   "source": [
    "logit_tuned_pred = logit_tuned.predict(X_test)\n",
    "print(classification_report(y_test, logit_tuned_pred))"
   ]
  },
  {
   "cell_type": "code",
   "execution_count": null,
   "id": "indian-dominican",
   "metadata": {},
   "outputs": [],
   "source": [
    "logit_pred = logit_smo.predict(X_test)\n",
    "print(classification_report(y_test, logit_pred))"
   ]
  },
  {
   "cell_type": "code",
   "execution_count": null,
   "id": "collectible-implement",
   "metadata": {},
   "outputs": [],
   "source": [
    "plot_roc_curve(logit_tuned, X_test, y_test)"
   ]
  },
  {
   "cell_type": "code",
   "execution_count": null,
   "id": "ranking-destruction",
   "metadata": {},
   "outputs": [],
   "source": [
    "logit_prob1 = logit_tuned.predict_proba(X_test)[:,1]\n",
    "fpr, tpr, thr = roc_curve(y_test, logit_prob1)"
   ]
  },
  {
   "cell_type": "code",
   "execution_count": null,
   "id": "phantom-sitting",
   "metadata": {},
   "outputs": [],
   "source": [
    "roc_df = pd.DataFrame({'fpr': fpr, 'tpr': tpr, 'thr': thr})\n",
    "roc_df[roc_df['tpr'].between(0.8, 0.9)]"
   ]
  },
  {
   "cell_type": "code",
   "execution_count": null,
   "id": "exact-listening",
   "metadata": {},
   "outputs": [],
   "source": [
    "new_thr = 0.371134\n",
    "y_pred037 = np.where(logit_tuned.predict_proba(X_test)[:,1]>new_thr,1,0)\n",
    "print(classification_report(y_test, y_pred037))"
   ]
  },
  {
   "cell_type": "code",
   "execution_count": null,
   "id": "specified-cliff",
   "metadata": {},
   "outputs": [],
   "source": [
    "confusion_matrix(y_test, y_pred037)"
   ]
  },
  {
   "cell_type": "markdown",
   "id": "equipped-mining",
   "metadata": {},
   "source": [
    "## VotingClassifier"
   ]
  },
  {
   "cell_type": "code",
   "execution_count": null,
   "id": "regular-trout",
   "metadata": {},
   "outputs": [],
   "source": [
    "# DecisionTreeClassifier\n",
    "dtc = DecisionTreeClassifier(max_depth=10, min_samples_split=100)\n",
    "# dtc_cal = CalibratedClassifierCV(dtc, method='isotonic')\n",
    "\n",
    "# GaussianNB\n",
    "gnb = GaussianNB()\n",
    "\n",
    "# VotingClassifier\n",
    "vclf = VotingClassifier([('logit',logit_tuned), ('dtc', dtc), ('gaussian', gnb)], voting='soft', n_jobs=-1)"
   ]
  },
  {
   "cell_type": "code",
   "execution_count": null,
   "id": "finite-income",
   "metadata": {},
   "outputs": [],
   "source": [
    "dtc_cal"
   ]
  },
  {
   "cell_type": "code",
   "execution_count": null,
   "id": "assisted-portable",
   "metadata": {},
   "outputs": [],
   "source": [
    "param_space_vclf = {\n",
    "    'dtc__max_depth': [10,20],\n",
    "    'dtc__min_samples_split': [100, 200],\n",
    "}"
   ]
  },
  {
   "cell_type": "code",
   "execution_count": null,
   "id": "dynamic-career",
   "metadata": {},
   "outputs": [],
   "source": [
    "vclf_grid = GridSearchCV(\n",
    "    vclf,\n",
    "    param_grid=param_space_vclf,\n",
    "    scoring='f1',\n",
    "    cv = skf,\n",
    "    n_jobs=-1,\n",
    "    verbose=2\n",
    " )\n",
    "\n",
    "vclf_grid.fit(X_train_val, y_train_val)"
   ]
  },
  {
   "cell_type": "code",
   "execution_count": null,
   "id": "eligible-oracle",
   "metadata": {},
   "outputs": [],
   "source": [
    "vclf_grid.best_params_"
   ]
  },
  {
   "cell_type": "code",
   "execution_count": null,
   "id": "bizarre-soldier",
   "metadata": {},
   "outputs": [],
   "source": [
    "# DecisionTreeClassifier\n",
    "dtc_tuned = DecisionTreeClassifier(max_depth=20, min_samples_split=100, class_weight='balanced')\n",
    "# dtc_cal = CalibratedClassifierCV(dtc, method='isotonic')\n",
    "\n",
    "# GaussianNB\n",
    "gnb = GaussianNB()\n",
    "\n",
    "# VotingClassifier\n",
    "vclf_tuned = VotingClassifier([('logit',logit_tuned), ('dtc', dtc_tuned), ('gaussian', gnb)], voting='soft', n_jobs=-1)"
   ]
  },
  {
   "cell_type": "code",
   "execution_count": null,
   "id": "suffering-helicopter",
   "metadata": {},
   "outputs": [],
   "source": [
    "vclf_tuned.fit(X_train_val, y_train_val)\n",
    "print('done fitting!')"
   ]
  },
  {
   "cell_type": "code",
   "execution_count": null,
   "id": "outdoor-luther",
   "metadata": {},
   "outputs": [],
   "source": [
    "vclf_pred_tuned = vclf_tuned.predict(X_test)\n",
    "print(classification_report(y_test, vclf_pred_tuned))\n",
    "display(confusion_matrix(y_test, vclf_pred_tuned))"
   ]
  },
  {
   "cell_type": "code",
   "execution_count": null,
   "id": "amazing-sister",
   "metadata": {},
   "outputs": [],
   "source": [
    "plot_roc_curve(vclf_tuned, X_test, y_test)"
   ]
  },
  {
   "cell_type": "code",
   "execution_count": null,
   "id": "floral-buddy",
   "metadata": {},
   "outputs": [],
   "source": [
    "fpr, tpr, thr = roc_curve(y_test, vclf_tuned.predict_proba(X_test)[:,1])\n",
    "roc_df = pd.DataFrame({'fpr': fpr, 'tpr': tpr, 'thr': thr})\n",
    "roc_df[roc_df['tpr'].between(0.95, 1.0)].sort_values('fpr').head()"
   ]
  },
  {
   "cell_type": "code",
   "execution_count": null,
   "id": "cubic-bracket",
   "metadata": {},
   "outputs": [],
   "source": [
    "new_thr = 0.567104\n",
    "y_pred0567 = np.where(vclf_tuned.predict_proba(X_test)[:,1]>new_thr,1,0)\n",
    "\n",
    "\n",
    "print(classification_report(y_test, y_pred0567))\n",
    "display(confusion_matrix(y_test, y_pred0567))"
   ]
  },
  {
   "cell_type": "code",
   "execution_count": null,
   "id": "motivated-position",
   "metadata": {},
   "outputs": [],
   "source": [
    "vclf_tuned.fit(X,y)\n",
    "submit = vclf_tuned.predict(test)"
   ]
  },
  {
   "cell_type": "code",
   "execution_count": null,
   "id": "christian-infection",
   "metadata": {},
   "outputs": [],
   "source": [
    "len(submit)"
   ]
  },
  {
   "cell_type": "code",
   "execution_count": null,
   "id": "characteristic-venue",
   "metadata": {},
   "outputs": [],
   "source": [
    "test_submit = pd.read_csv('data_test.csv')\n",
    "test_submit['Labels'] = submit\n",
    "\n",
    "test_submit.head()"
   ]
  },
  {
   "cell_type": "code",
   "execution_count": null,
   "id": "atomic-louisiana",
   "metadata": {},
   "outputs": [],
   "source": [
    "test_submit.to_csv('submit2.csv', index=False)"
   ]
  },
  {
   "cell_type": "markdown",
   "id": "obvious-share",
   "metadata": {},
   "source": [
    "## Try another technique"
   ]
  },
  {
   "cell_type": "code",
   "execution_count": 2,
   "id": "harmful-cricket",
   "metadata": {},
   "outputs": [
    {
     "data": {
      "text/html": [
       "<div>\n",
       "<style scoped>\n",
       "    .dataframe tbody tr th:only-of-type {\n",
       "        vertical-align: middle;\n",
       "    }\n",
       "\n",
       "    .dataframe tbody tr th {\n",
       "        vertical-align: top;\n",
       "    }\n",
       "\n",
       "    .dataframe thead th {\n",
       "        text-align: right;\n",
       "    }\n",
       "</style>\n",
       "<table border=\"1\" class=\"dataframe\">\n",
       "  <thead>\n",
       "    <tr style=\"text-align: right;\">\n",
       "      <th></th>\n",
       "      <th>s2token_15</th>\n",
       "      <th>lat</th>\n",
       "      <th>lon</th>\n",
       "      <th>day</th>\n",
       "      <th>month</th>\n",
       "      <th>Labels</th>\n",
       "      <th>hour_y</th>\n",
       "      <th>street_y</th>\n",
       "      <th>road_type</th>\n",
       "      <th>jam_level</th>\n",
       "    </tr>\n",
       "  </thead>\n",
       "  <tbody>\n",
       "    <tr>\n",
       "      <th>0</th>\n",
       "      <td>2e698e484</td>\n",
       "      <td>-6.270088</td>\n",
       "      <td>107.043609</td>\n",
       "      <td>25</td>\n",
       "      <td>9</td>\n",
       "      <td>True</td>\n",
       "      <td>10</td>\n",
       "      <td>Lambang Jaya</td>\n",
       "      <td>2</td>\n",
       "      <td>4</td>\n",
       "    </tr>\n",
       "    <tr>\n",
       "      <th>1</th>\n",
       "      <td>2e698e484</td>\n",
       "      <td>-6.270088</td>\n",
       "      <td>107.043609</td>\n",
       "      <td>25</td>\n",
       "      <td>9</td>\n",
       "      <td>True</td>\n",
       "      <td>10</td>\n",
       "      <td>Lambang Jaya</td>\n",
       "      <td>2</td>\n",
       "      <td>4</td>\n",
       "    </tr>\n",
       "    <tr>\n",
       "      <th>2</th>\n",
       "      <td>2e698e484</td>\n",
       "      <td>-6.270088</td>\n",
       "      <td>107.043609</td>\n",
       "      <td>25</td>\n",
       "      <td>9</td>\n",
       "      <td>True</td>\n",
       "      <td>10</td>\n",
       "      <td>Lambang Jaya</td>\n",
       "      <td>2</td>\n",
       "      <td>4</td>\n",
       "    </tr>\n",
       "    <tr>\n",
       "      <th>3</th>\n",
       "      <td>2e698e484</td>\n",
       "      <td>-6.270088</td>\n",
       "      <td>107.043609</td>\n",
       "      <td>25</td>\n",
       "      <td>9</td>\n",
       "      <td>True</td>\n",
       "      <td>10</td>\n",
       "      <td>Lambang Jaya</td>\n",
       "      <td>2</td>\n",
       "      <td>3</td>\n",
       "    </tr>\n",
       "    <tr>\n",
       "      <th>4</th>\n",
       "      <td>2e698e484</td>\n",
       "      <td>-6.270088</td>\n",
       "      <td>107.043609</td>\n",
       "      <td>25</td>\n",
       "      <td>9</td>\n",
       "      <td>True</td>\n",
       "      <td>10</td>\n",
       "      <td>Lambang Jaya</td>\n",
       "      <td>2</td>\n",
       "      <td>4</td>\n",
       "    </tr>\n",
       "    <tr>\n",
       "      <th>...</th>\n",
       "      <td>...</td>\n",
       "      <td>...</td>\n",
       "      <td>...</td>\n",
       "      <td>...</td>\n",
       "      <td>...</td>\n",
       "      <td>...</td>\n",
       "      <td>...</td>\n",
       "      <td>...</td>\n",
       "      <td>...</td>\n",
       "      <td>...</td>\n",
       "    </tr>\n",
       "    <tr>\n",
       "      <th>3674059</th>\n",
       "      <td>2e68e6874</td>\n",
       "      <td>-6.886813</td>\n",
       "      <td>107.581583</td>\n",
       "      <td>22</td>\n",
       "      <td>11</td>\n",
       "      <td>True</td>\n",
       "      <td>17</td>\n",
       "      <td>Prof Dr Surya Sumantri</td>\n",
       "      <td>2</td>\n",
       "      <td>4</td>\n",
       "    </tr>\n",
       "    <tr>\n",
       "      <th>3674060</th>\n",
       "      <td>2e68e6874</td>\n",
       "      <td>-6.886813</td>\n",
       "      <td>107.581583</td>\n",
       "      <td>22</td>\n",
       "      <td>11</td>\n",
       "      <td>True</td>\n",
       "      <td>17</td>\n",
       "      <td>Prof Dr Surya Sumantri</td>\n",
       "      <td>2</td>\n",
       "      <td>4</td>\n",
       "    </tr>\n",
       "    <tr>\n",
       "      <th>3674061</th>\n",
       "      <td>2e68e6874</td>\n",
       "      <td>-6.886813</td>\n",
       "      <td>107.581583</td>\n",
       "      <td>22</td>\n",
       "      <td>11</td>\n",
       "      <td>True</td>\n",
       "      <td>17</td>\n",
       "      <td>Prof Dr Surya Sumantri</td>\n",
       "      <td>2</td>\n",
       "      <td>4</td>\n",
       "    </tr>\n",
       "    <tr>\n",
       "      <th>3674062</th>\n",
       "      <td>2e68e6874</td>\n",
       "      <td>-6.886813</td>\n",
       "      <td>107.581583</td>\n",
       "      <td>22</td>\n",
       "      <td>11</td>\n",
       "      <td>True</td>\n",
       "      <td>17</td>\n",
       "      <td>Prof Dr Surya Sumantri</td>\n",
       "      <td>2</td>\n",
       "      <td>4</td>\n",
       "    </tr>\n",
       "    <tr>\n",
       "      <th>3674063</th>\n",
       "      <td>2e68e6874</td>\n",
       "      <td>-6.886813</td>\n",
       "      <td>107.581583</td>\n",
       "      <td>22</td>\n",
       "      <td>11</td>\n",
       "      <td>True</td>\n",
       "      <td>17</td>\n",
       "      <td>Prof Dr Surya Sumantri</td>\n",
       "      <td>2</td>\n",
       "      <td>4</td>\n",
       "    </tr>\n",
       "  </tbody>\n",
       "</table>\n",
       "<p>3674064 rows × 10 columns</p>\n",
       "</div>"
      ],
      "text/plain": [
       "        s2token_15       lat         lon  day  month  Labels  hour_y  \\\n",
       "0        2e698e484 -6.270088  107.043609   25      9    True      10   \n",
       "1        2e698e484 -6.270088  107.043609   25      9    True      10   \n",
       "2        2e698e484 -6.270088  107.043609   25      9    True      10   \n",
       "3        2e698e484 -6.270088  107.043609   25      9    True      10   \n",
       "4        2e698e484 -6.270088  107.043609   25      9    True      10   \n",
       "...            ...       ...         ...  ...    ...     ...     ...   \n",
       "3674059  2e68e6874 -6.886813  107.581583   22     11    True      17   \n",
       "3674060  2e68e6874 -6.886813  107.581583   22     11    True      17   \n",
       "3674061  2e68e6874 -6.886813  107.581583   22     11    True      17   \n",
       "3674062  2e68e6874 -6.886813  107.581583   22     11    True      17   \n",
       "3674063  2e68e6874 -6.886813  107.581583   22     11    True      17   \n",
       "\n",
       "                       street_y  road_type  jam_level  \n",
       "0                  Lambang Jaya          2          4  \n",
       "1                  Lambang Jaya          2          4  \n",
       "2                  Lambang Jaya          2          4  \n",
       "3                  Lambang Jaya          2          3  \n",
       "4                  Lambang Jaya          2          4  \n",
       "...                         ...        ...        ...  \n",
       "3674059  Prof Dr Surya Sumantri          2          4  \n",
       "3674060  Prof Dr Surya Sumantri          2          4  \n",
       "3674061  Prof Dr Surya Sumantri          2          4  \n",
       "3674062  Prof Dr Surya Sumantri          2          4  \n",
       "3674063  Prof Dr Surya Sumantri          2          4  \n",
       "\n",
       "[3674064 rows x 10 columns]"
      ]
     },
     "execution_count": 2,
     "metadata": {},
     "output_type": "execute_result"
    }
   ],
   "source": [
    "ready_clean = pd.read_csv('ready_clean.csv')\n",
    "db_street = pd.read_csv('db_street.csv')\n",
    "db_road_type = pd.read_csv('db_road_type.csv')\n",
    "db_jam_level = pd.read_csv('db_jam_level.csv')\n",
    "ready_clean"
   ]
  },
  {
   "cell_type": "code",
   "execution_count": 3,
   "id": "attempted-country",
   "metadata": {},
   "outputs": [],
   "source": [
    "def ids_to_df(df):\n",
    "    test_df2 = pd.DataFrame()\n",
    "    test_df2['s2cell_token'] = df['Ids'].str.split('_').apply(lambda x: x[0])\n",
    "    test_df2['date'] = df['Ids'].str.split('_').apply(lambda x: x[1])\n",
    "    test_df2['date'] = test_df2['date'].str.split('-')\n",
    "    test_df2['hour'] = df['Ids'].str.split('_').apply(lambda x: x[2])\n",
    "    \n",
    "    test_df2['year'] = test_df2['date'].apply(lambda x: int(x[0]))\n",
    "    test_df2['month'] = test_df2['date'].apply(lambda x: int(x[1]))\n",
    "    test_df2['day'] = test_df2['date'].apply(lambda x: int(x[2]))\n",
    "    test_df2['hour'] = test_df2['hour'].astype('int')\n",
    "    \n",
    "    test_df2['lat'] = test_df2['s2cell_token'].apply(s2cell.token_to_lat_lon).apply(lambda x: x[0])\n",
    "    test_df2['lon'] = test_df2['s2cell_token'].apply(s2cell.token_to_lat_lon).apply(lambda x: x[1])\n",
    "    \n",
    "    test_df2['x'] = np.cos(test_df2['lat']) * np.cos(test_df2['lon'])\n",
    "    test_df2['y'] = np.cos(test_df2['lat']) * np.sin(test_df2['lon'])\n",
    "    test_df2['z'] = np.sin(test_df2['lat'])\n",
    "    \n",
    "    test_df2 = test_df2[['x', 'y', 'z', 'day', 'month', 'hour']]\n",
    "    \n",
    "    return test_df2"
   ]
  },
  {
   "cell_type": "code",
   "execution_count": 4,
   "id": "constitutional-arcade",
   "metadata": {},
   "outputs": [],
   "source": [
    "ready_clean['x'] = np.cos(ready_clean['lat']) * np.cos(ready_clean['lon'])\n",
    "ready_clean['y'] = np.cos(ready_clean['lat']) * np.sin(ready_clean['lon'])\n",
    "ready_clean['z'] = np.sin(ready_clean['lat'])\n",
    "ready_clean.drop(['lat', 'lon'], axis=1, inplace=True)"
   ]
  },
  {
   "cell_type": "code",
   "execution_count": 5,
   "id": "southwest-curve",
   "metadata": {},
   "outputs": [],
   "source": [
    "ready_clean.drop('s2token_15', axis=1, inplace=True)"
   ]
  },
  {
   "cell_type": "code",
   "execution_count": 6,
   "id": "radio-validity",
   "metadata": {},
   "outputs": [
    {
     "data": {
      "text/html": [
       "<div>\n",
       "<style scoped>\n",
       "    .dataframe tbody tr th:only-of-type {\n",
       "        vertical-align: middle;\n",
       "    }\n",
       "\n",
       "    .dataframe tbody tr th {\n",
       "        vertical-align: top;\n",
       "    }\n",
       "\n",
       "    .dataframe thead th {\n",
       "        text-align: right;\n",
       "    }\n",
       "</style>\n",
       "<table border=\"1\" class=\"dataframe\">\n",
       "  <thead>\n",
       "    <tr style=\"text-align: right;\">\n",
       "      <th></th>\n",
       "      <th>day</th>\n",
       "      <th>month</th>\n",
       "      <th>Labels</th>\n",
       "      <th>hour_y</th>\n",
       "      <th>street_y</th>\n",
       "      <th>road_type</th>\n",
       "      <th>jam_level</th>\n",
       "      <th>x</th>\n",
       "      <th>y</th>\n",
       "      <th>z</th>\n",
       "    </tr>\n",
       "  </thead>\n",
       "  <tbody>\n",
       "    <tr>\n",
       "      <th>0</th>\n",
       "      <td>25</td>\n",
       "      <td>9</td>\n",
       "      <td>True</td>\n",
       "      <td>10</td>\n",
       "      <td>Lambang Jaya</td>\n",
       "      <td>2</td>\n",
       "      <td>4</td>\n",
       "      <td>0.973706</td>\n",
       "      <td>0.227431</td>\n",
       "      <td>0.013097</td>\n",
       "    </tr>\n",
       "    <tr>\n",
       "      <th>1</th>\n",
       "      <td>25</td>\n",
       "      <td>9</td>\n",
       "      <td>True</td>\n",
       "      <td>10</td>\n",
       "      <td>Lambang Jaya</td>\n",
       "      <td>2</td>\n",
       "      <td>4</td>\n",
       "      <td>0.973706</td>\n",
       "      <td>0.227431</td>\n",
       "      <td>0.013097</td>\n",
       "    </tr>\n",
       "    <tr>\n",
       "      <th>2</th>\n",
       "      <td>25</td>\n",
       "      <td>9</td>\n",
       "      <td>True</td>\n",
       "      <td>10</td>\n",
       "      <td>Lambang Jaya</td>\n",
       "      <td>2</td>\n",
       "      <td>4</td>\n",
       "      <td>0.973706</td>\n",
       "      <td>0.227431</td>\n",
       "      <td>0.013097</td>\n",
       "    </tr>\n",
       "    <tr>\n",
       "      <th>3</th>\n",
       "      <td>25</td>\n",
       "      <td>9</td>\n",
       "      <td>True</td>\n",
       "      <td>10</td>\n",
       "      <td>Lambang Jaya</td>\n",
       "      <td>2</td>\n",
       "      <td>3</td>\n",
       "      <td>0.973706</td>\n",
       "      <td>0.227431</td>\n",
       "      <td>0.013097</td>\n",
       "    </tr>\n",
       "    <tr>\n",
       "      <th>4</th>\n",
       "      <td>25</td>\n",
       "      <td>9</td>\n",
       "      <td>True</td>\n",
       "      <td>10</td>\n",
       "      <td>Lambang Jaya</td>\n",
       "      <td>2</td>\n",
       "      <td>4</td>\n",
       "      <td>0.973706</td>\n",
       "      <td>0.227431</td>\n",
       "      <td>0.013097</td>\n",
       "    </tr>\n",
       "  </tbody>\n",
       "</table>\n",
       "</div>"
      ],
      "text/plain": [
       "   day  month  Labels  hour_y      street_y  road_type  jam_level         x  \\\n",
       "0   25      9    True      10  Lambang Jaya          2          4  0.973706   \n",
       "1   25      9    True      10  Lambang Jaya          2          4  0.973706   \n",
       "2   25      9    True      10  Lambang Jaya          2          4  0.973706   \n",
       "3   25      9    True      10  Lambang Jaya          2          3  0.973706   \n",
       "4   25      9    True      10  Lambang Jaya          2          4  0.973706   \n",
       "\n",
       "          y         z  \n",
       "0  0.227431  0.013097  \n",
       "1  0.227431  0.013097  \n",
       "2  0.227431  0.013097  \n",
       "3  0.227431  0.013097  \n",
       "4  0.227431  0.013097  "
      ]
     },
     "execution_count": 6,
     "metadata": {},
     "output_type": "execute_result"
    }
   ],
   "source": [
    "ready_clean.head()"
   ]
  },
  {
   "cell_type": "code",
   "execution_count": 7,
   "id": "stuffed-columbia",
   "metadata": {},
   "outputs": [
    {
     "data": {
      "text/plain": [
       "day          0\n",
       "month        0\n",
       "Labels       0\n",
       "hour_y       0\n",
       "street_y     0\n",
       "road_type    0\n",
       "jam_level    0\n",
       "x            0\n",
       "y            0\n",
       "z            0\n",
       "dtype: int64"
      ]
     },
     "execution_count": 7,
     "metadata": {},
     "output_type": "execute_result"
    }
   ],
   "source": [
    "ready_clean.isna().sum()"
   ]
  },
  {
   "cell_type": "code",
   "execution_count": 8,
   "id": "other-integration",
   "metadata": {},
   "outputs": [
    {
     "data": {
      "text/plain": [
       "277"
      ]
     },
     "execution_count": 8,
     "metadata": {},
     "output_type": "execute_result"
    }
   ],
   "source": [
    "# binary\n",
    "ready_clean['street_y'].nunique()"
   ]
  },
  {
   "cell_type": "code",
   "execution_count": 9,
   "id": "virtual-warrior",
   "metadata": {},
   "outputs": [],
   "source": [
    "import category_encoders as ce"
   ]
  },
  {
   "cell_type": "code",
   "execution_count": 15,
   "id": "hispanic-public",
   "metadata": {},
   "outputs": [],
   "source": [
    "pipe_street = Pipeline([\n",
    "    ('impute', SimpleImputer(strategy='most_frequent')),\n",
    "    ('binary', ce.BinaryEncoder())\n",
    "])\n",
    "\n",
    "transformer = ColumnTransformer([\n",
    "    ('binary', pipe_street, ['street_y']),\n",
    "    ('poly', PolynomialFeatures(degree=3), ['x', 'y', 'z']),\n",
    "    ('kbins', KBinsDiscretizer(n_bins=3, encode='ordinal', strategy='uniform'), ['day', 'hour_y']),\n",
    "    ('imputer', SimpleImputer(strategy='median'), ['road_type', 'jam_level'])\n",
    "], remainder='passthrough')\n",
    "\n",
    "logit_new_pipe = Pipeline([\n",
    "    ('trans', transformer),\n",
    "    ('fs', RFE(LogisticRegression(C=0.01, solver='liblinear', random_state=2020, verbose=1, class_weight='balanced'))),\n",
    "    ('clf', LogisticRegression(C=0.01, solver='liblinear', random_state=2020, verbose=1, class_weight='balanced'))\n",
    "])"
   ]
  },
  {
   "cell_type": "code",
   "execution_count": 11,
   "id": "cloudy-questionnaire",
   "metadata": {},
   "outputs": [],
   "source": [
    "X = ready_clean['x y z day month hour_y street_y road_type jam_level'.split()]\n",
    "y = np.where(ready_clean['Labels']==True,1,0)"
   ]
  },
  {
   "cell_type": "code",
   "execution_count": 12,
   "id": "missing-wings",
   "metadata": {},
   "outputs": [],
   "source": [
    "X_train_val, X_test, y_train_val, y_test = train_test_split(X, y, stratify=y, test_size=.2, random_state=2020)"
   ]
  },
  {
   "cell_type": "code",
   "execution_count": 13,
   "id": "operating-postage",
   "metadata": {},
   "outputs": [
    {
     "data": {
      "text/html": [
       "<div>\n",
       "<style scoped>\n",
       "    .dataframe tbody tr th:only-of-type {\n",
       "        vertical-align: middle;\n",
       "    }\n",
       "\n",
       "    .dataframe tbody tr th {\n",
       "        vertical-align: top;\n",
       "    }\n",
       "\n",
       "    .dataframe thead th {\n",
       "        text-align: right;\n",
       "    }\n",
       "</style>\n",
       "<table border=\"1\" class=\"dataframe\">\n",
       "  <thead>\n",
       "    <tr style=\"text-align: right;\">\n",
       "      <th></th>\n",
       "      <th>x</th>\n",
       "      <th>y</th>\n",
       "      <th>z</th>\n",
       "      <th>day</th>\n",
       "      <th>month</th>\n",
       "      <th>hour_y</th>\n",
       "      <th>street_y</th>\n",
       "      <th>road_type</th>\n",
       "      <th>jam_level</th>\n",
       "    </tr>\n",
       "  </thead>\n",
       "  <tbody>\n",
       "    <tr>\n",
       "      <th>2508340</th>\n",
       "      <td>0.990932</td>\n",
       "      <td>0.099001</td>\n",
       "      <td>-0.090839</td>\n",
       "      <td>7</td>\n",
       "      <td>11</td>\n",
       "      <td>14</td>\n",
       "      <td>Trans Yogi</td>\n",
       "      <td>7</td>\n",
       "      <td>4</td>\n",
       "    </tr>\n",
       "    <tr>\n",
       "      <th>2892768</th>\n",
       "      <td>0.991760</td>\n",
       "      <td>0.087273</td>\n",
       "      <td>-0.093783</td>\n",
       "      <td>4</td>\n",
       "      <td>10</td>\n",
       "      <td>12</td>\n",
       "      <td>Trans Yogi</td>\n",
       "      <td>7</td>\n",
       "      <td>4</td>\n",
       "    </tr>\n",
       "    <tr>\n",
       "      <th>3350205</th>\n",
       "      <td>0.596603</td>\n",
       "      <td>0.596351</td>\n",
       "      <td>-0.537057</td>\n",
       "      <td>17</td>\n",
       "      <td>10</td>\n",
       "      <td>14</td>\n",
       "      <td>Dr Setiabudi</td>\n",
       "      <td>7</td>\n",
       "      <td>4</td>\n",
       "    </tr>\n",
       "    <tr>\n",
       "      <th>2457883</th>\n",
       "      <td>0.976888</td>\n",
       "      <td>0.213017</td>\n",
       "      <td>0.017714</td>\n",
       "      <td>2</td>\n",
       "      <td>11</td>\n",
       "      <td>19</td>\n",
       "      <td>Lambang Jaya</td>\n",
       "      <td>2</td>\n",
       "      <td>3</td>\n",
       "    </tr>\n",
       "    <tr>\n",
       "      <th>210920</th>\n",
       "      <td>0.969386</td>\n",
       "      <td>0.244610</td>\n",
       "      <td>0.021347</td>\n",
       "      <td>17</td>\n",
       "      <td>11</td>\n",
       "      <td>10</td>\n",
       "      <td>N1 Sultan Hasanudin</td>\n",
       "      <td>6</td>\n",
       "      <td>4</td>\n",
       "    </tr>\n",
       "  </tbody>\n",
       "</table>\n",
       "</div>"
      ],
      "text/plain": [
       "                x         y         z  day  month  hour_y  \\\n",
       "2508340  0.990932  0.099001 -0.090839    7     11      14   \n",
       "2892768  0.991760  0.087273 -0.093783    4     10      12   \n",
       "3350205  0.596603  0.596351 -0.537057   17     10      14   \n",
       "2457883  0.976888  0.213017  0.017714    2     11      19   \n",
       "210920   0.969386  0.244610  0.021347   17     11      10   \n",
       "\n",
       "                    street_y  road_type  jam_level  \n",
       "2508340           Trans Yogi          7          4  \n",
       "2892768           Trans Yogi          7          4  \n",
       "3350205         Dr Setiabudi          7          4  \n",
       "2457883         Lambang Jaya          2          3  \n",
       "210920   N1 Sultan Hasanudin          6          4  "
      ]
     },
     "execution_count": 13,
     "metadata": {},
     "output_type": "execute_result"
    }
   ],
   "source": [
    "X_train_val.head()"
   ]
  },
  {
   "cell_type": "code",
   "execution_count": 14,
   "id": "better-musical",
   "metadata": {},
   "outputs": [
    {
     "data": {
      "text/plain": [
       "array([1, 1, 1, ..., 1, 1, 1])"
      ]
     },
     "execution_count": 14,
     "metadata": {},
     "output_type": "execute_result"
    }
   ],
   "source": [
    "y_train_val"
   ]
  },
  {
   "cell_type": "code",
   "execution_count": null,
   "id": "difficult-creativity",
   "metadata": {},
   "outputs": [],
   "source": [
    "logit_new_pipe.fit(X_train_val, y_train_val)"
   ]
  },
  {
   "cell_type": "code",
   "execution_count": null,
   "id": "tired-poker",
   "metadata": {},
   "outputs": [],
   "source": [
    "y_pred = logit_new_pipe.predict(X_test)\n",
    "print(classification_report(y_test, y_pred))"
   ]
  },
  {
   "cell_type": "code",
   "execution_count": null,
   "id": "catholic-building",
   "metadata": {},
   "outputs": [],
   "source": [
    "confusion_matrix(y_test, y_pred)"
   ]
  },
  {
   "cell_type": "code",
   "execution_count": null,
   "id": "therapeutic-marketing",
   "metadata": {},
   "outputs": [],
   "source": [
    "plot_roc_curve(logit_new_pipe, X_test, y_test)"
   ]
  },
  {
   "cell_type": "code",
   "execution_count": null,
   "id": "pacific-reunion",
   "metadata": {},
   "outputs": [],
   "source": [
    "import joblib\n",
    "joblib.dump(logit_new_pipe, 'logit_new')"
   ]
  },
  {
   "cell_type": "code",
   "execution_count": null,
   "id": "conditional-option",
   "metadata": {},
   "outputs": [],
   "source": [
    "y_prob1 = logit_new_pipe.predict_proba(X_test)[:,1]"
   ]
  },
  {
   "cell_type": "code",
   "execution_count": null,
   "id": "terminal-profit",
   "metadata": {},
   "outputs": [],
   "source": [
    "fpr, tpr, thr = roc_curve(y_test, y_prob1)\n",
    "roc_df = pd.DataFrame({'fpr': fpr, 'tpr': tpr, 'thr': thr})\n",
    "roc_df[roc_df['tpr'].between(0.95,1)]"
   ]
  },
  {
   "cell_type": "code",
   "execution_count": null,
   "id": "particular-program",
   "metadata": {},
   "outputs": [],
   "source": [
    "# 0.889415 macro 0.67\n",
    "# 0.875739 macro 0.67\n",
    "# 0.797893 macro 0.74\n",
    "\n",
    "new_thr = 0.797893\n",
    "\n",
    "y_pred088 = np.where(logit_new_pipe.predict_proba(X_test)[:,1]>new_thr,1,0)\n",
    "print(classification_report(y_test, y_pred088))\n",
    "display(confusion_matrix(y_test, y_pred088))"
   ]
  },
  {
   "cell_type": "code",
   "execution_count": null,
   "id": "controlling-above",
   "metadata": {},
   "outputs": [],
   "source": [
    "# final_logit = logit_new_pipe.fit(X, y)"
   ]
  },
  {
   "cell_type": "code",
   "execution_count": null,
   "id": "imposed-delaware",
   "metadata": {},
   "outputs": [],
   "source": [
    "test = pd.read_csv('data_test.csv')\n",
    "test"
   ]
  },
  {
   "cell_type": "code",
   "execution_count": null,
   "id": "noticed-tiger",
   "metadata": {},
   "outputs": [],
   "source": [
    "X_train_val.head()"
   ]
  },
  {
   "cell_type": "code",
   "execution_count": null,
   "id": "worldwide-poker",
   "metadata": {},
   "outputs": [],
   "source": [
    "import s2cell"
   ]
  },
  {
   "cell_type": "code",
   "execution_count": null,
   "id": "played-packet",
   "metadata": {},
   "outputs": [],
   "source": [
    "def ids_to_df(df):\n",
    "    test_df2 = pd.DataFrame()\n",
    "    test_df2['s2cell_token'] = df['Ids'].str.split('_').apply(lambda x: x[0])\n",
    "    test_df2['date'] = df['Ids'].str.split('_').apply(lambda x: x[1])\n",
    "    test_df2['date'] = test_df2['date'].str.split('-')\n",
    "    test_df2['hour_y'] = df['Ids'].str.split('_').apply(lambda x: x[2])\n",
    "    test_df2['token_hour'] = test_df2['s2cell_token']+'_'+test_df2['hour_y'] \n",
    "    \n",
    "    test_df2['year'] = test_df2['date'].apply(lambda x: int(x[0]))\n",
    "    test_df2['month'] = test_df2['date'].apply(lambda x: int(x[1]))\n",
    "    test_df2['day'] = test_df2['date'].apply(lambda x: int(x[2]))\n",
    "    test_df2['hour_y'] = test_df2['hour_y'].astype('int')\n",
    "    \n",
    "    test_df2['lat'] = test_df2['s2cell_token'].apply(s2cell.token_to_lat_lon).apply(lambda x: x[0])\n",
    "    test_df2['lon'] = test_df2['s2cell_token'].apply(s2cell.token_to_lat_lon).apply(lambda x: x[1])\n",
    "    \n",
    "    test_df2['x'] = np.cos(test_df2['lat']) * np.cos(test_df2['lon'])\n",
    "    test_df2['y'] = np.cos(test_df2['lat']) * np.sin(test_df2['lon'])\n",
    "    test_df2['z'] = np.sin(test_df2['lat'])\n",
    "    \n",
    "    test_df2 = test_df2[['token_hour', 'x', 'y', 'z', 'day', 'month', 'hour_y']]\n",
    "    \n",
    "    return test_df2"
   ]
  },
  {
   "cell_type": "code",
   "execution_count": null,
   "id": "confident-halloween",
   "metadata": {},
   "outputs": [],
   "source": [
    "new_test = ids_to_df(test)"
   ]
  },
  {
   "cell_type": "code",
   "execution_count": null,
   "id": "legal-wireless",
   "metadata": {},
   "outputs": [],
   "source": [
    "len(new_test)"
   ]
  },
  {
   "cell_type": "code",
   "execution_count": null,
   "id": "mounted-packing",
   "metadata": {},
   "outputs": [],
   "source": [
    "# db_street\n",
    "# db_road_type\n",
    "# db_jam_level"
   ]
  },
  {
   "cell_type": "code",
   "execution_count": null,
   "id": "lasting-glance",
   "metadata": {},
   "outputs": [],
   "source": [
    "merge_street = pd.merge(new_test, db_street, how='left')"
   ]
  },
  {
   "cell_type": "code",
   "execution_count": null,
   "id": "normal-routine",
   "metadata": {},
   "outputs": [],
   "source": [
    "merge_road = pd.merge(merge_street, db_road_type, how='left')\n",
    "merge_road"
   ]
  },
  {
   "cell_type": "code",
   "execution_count": null,
   "id": "coral-transsexual",
   "metadata": {},
   "outputs": [],
   "source": [
    "merge_jam_level = pd.merge(merge_road, db_jam_level, how='left')\n",
    "merge_jam_level"
   ]
  },
  {
   "cell_type": "code",
   "execution_count": null,
   "id": "residential-demonstration",
   "metadata": {},
   "outputs": [],
   "source": [
    "merge_jam_level.isna().sum()"
   ]
  },
  {
   "cell_type": "code",
   "execution_count": null,
   "id": "short-mount",
   "metadata": {},
   "outputs": [],
   "source": []
  }
 ],
 "metadata": {
  "kernelspec": {
   "display_name": "Python 3",
   "language": "python",
   "name": "python3"
  },
  "language_info": {
   "codemirror_mode": {
    "name": "ipython",
    "version": 3
   },
   "file_extension": ".py",
   "mimetype": "text/x-python",
   "name": "python",
   "nbconvert_exporter": "python",
   "pygments_lexer": "ipython3",
   "version": "3.7.4"
  }
 },
 "nbformat": 4,
 "nbformat_minor": 5
}
