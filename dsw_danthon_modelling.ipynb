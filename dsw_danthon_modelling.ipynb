{
 "cells": [
  {
   "cell_type": "code",
   "execution_count": 1,
   "id": "retained-valley",
   "metadata": {},
   "outputs": [],
   "source": [
    "import numpy as np\n",
    "import pandas as pd\n",
    "import matplotlib.pyplot as plt\n",
    "import seaborn as sns\n",
    "\n",
    "from sklearn.model_selection import cross_val_score, GridSearchCV, RandomizedSearchCV, train_test_split, StratifiedKFold\n",
    "from sklearn.calibration import CalibratedClassifierCV\n",
    "from sklearn.compose import ColumnTransformer\n",
    "from sklearn.ensemble import VotingClassifier\n",
    "\n",
    "from sklearn.preprocessing import StandardScaler, PolynomialFeatures\n",
    "from imblearn.pipeline import Pipeline\n",
    "\n",
    "from sklearn.linear_model import LogisticRegression\n",
    "from sklearn.ensemble import VotingClassifier\n",
    "from sklearn.tree import DecisionTreeClassifier\n",
    "from sklearn.neighbors import KNeighborsClassifier\n",
    "\n",
    "from sklearn.metrics import classification_report\n",
    "\n",
    "import datetime as dt\n",
    "\n",
    "pd.set_option('display.max_rows', 500)\n",
    "pd.set_option('display.max_columns', 500)"
   ]
  },
  {
   "cell_type": "code",
   "execution_count": 2,
   "id": "cutting-cooperative",
   "metadata": {},
   "outputs": [
    {
     "data": {
      "text/html": [
       "<div>\n",
       "<style scoped>\n",
       "    .dataframe tbody tr th:only-of-type {\n",
       "        vertical-align: middle;\n",
       "    }\n",
       "\n",
       "    .dataframe tbody tr th {\n",
       "        vertical-align: top;\n",
       "    }\n",
       "\n",
       "    .dataframe thead th {\n",
       "        text-align: right;\n",
       "    }\n",
       "</style>\n",
       "<table border=\"1\" class=\"dataframe\">\n",
       "  <thead>\n",
       "    <tr style=\"text-align: right;\">\n",
       "      <th></th>\n",
       "      <th>Unnamed: 0</th>\n",
       "      <th>lat</th>\n",
       "      <th>lon</th>\n",
       "      <th>day</th>\n",
       "      <th>month</th>\n",
       "      <th>Labels</th>\n",
       "    </tr>\n",
       "  </thead>\n",
       "  <tbody>\n",
       "    <tr>\n",
       "      <th>0</th>\n",
       "      <td>0</td>\n",
       "      <td>-6.270088</td>\n",
       "      <td>107.043609</td>\n",
       "      <td>25</td>\n",
       "      <td>9</td>\n",
       "      <td>True</td>\n",
       "    </tr>\n",
       "    <tr>\n",
       "      <th>1</th>\n",
       "      <td>1</td>\n",
       "      <td>-6.270088</td>\n",
       "      <td>107.043609</td>\n",
       "      <td>25</td>\n",
       "      <td>9</td>\n",
       "      <td>True</td>\n",
       "    </tr>\n",
       "    <tr>\n",
       "      <th>2</th>\n",
       "      <td>2</td>\n",
       "      <td>-6.270088</td>\n",
       "      <td>107.043609</td>\n",
       "      <td>25</td>\n",
       "      <td>9</td>\n",
       "      <td>True</td>\n",
       "    </tr>\n",
       "    <tr>\n",
       "      <th>3</th>\n",
       "      <td>3</td>\n",
       "      <td>-6.270088</td>\n",
       "      <td>107.043609</td>\n",
       "      <td>25</td>\n",
       "      <td>9</td>\n",
       "      <td>True</td>\n",
       "    </tr>\n",
       "    <tr>\n",
       "      <th>4</th>\n",
       "      <td>4</td>\n",
       "      <td>-6.270088</td>\n",
       "      <td>107.043609</td>\n",
       "      <td>25</td>\n",
       "      <td>9</td>\n",
       "      <td>True</td>\n",
       "    </tr>\n",
       "    <tr>\n",
       "      <th>...</th>\n",
       "      <td>...</td>\n",
       "      <td>...</td>\n",
       "      <td>...</td>\n",
       "      <td>...</td>\n",
       "      <td>...</td>\n",
       "      <td>...</td>\n",
       "    </tr>\n",
       "    <tr>\n",
       "      <th>3707443</th>\n",
       "      <td>3707443</td>\n",
       "      <td>-6.886813</td>\n",
       "      <td>107.581583</td>\n",
       "      <td>22</td>\n",
       "      <td>11</td>\n",
       "      <td>True</td>\n",
       "    </tr>\n",
       "    <tr>\n",
       "      <th>3707444</th>\n",
       "      <td>3707444</td>\n",
       "      <td>-6.886813</td>\n",
       "      <td>107.581583</td>\n",
       "      <td>22</td>\n",
       "      <td>11</td>\n",
       "      <td>True</td>\n",
       "    </tr>\n",
       "    <tr>\n",
       "      <th>3707445</th>\n",
       "      <td>3707445</td>\n",
       "      <td>-6.886813</td>\n",
       "      <td>107.581583</td>\n",
       "      <td>22</td>\n",
       "      <td>11</td>\n",
       "      <td>True</td>\n",
       "    </tr>\n",
       "    <tr>\n",
       "      <th>3707446</th>\n",
       "      <td>3707446</td>\n",
       "      <td>-6.886813</td>\n",
       "      <td>107.581583</td>\n",
       "      <td>22</td>\n",
       "      <td>11</td>\n",
       "      <td>True</td>\n",
       "    </tr>\n",
       "    <tr>\n",
       "      <th>3707447</th>\n",
       "      <td>3707447</td>\n",
       "      <td>-6.886813</td>\n",
       "      <td>107.581583</td>\n",
       "      <td>22</td>\n",
       "      <td>11</td>\n",
       "      <td>True</td>\n",
       "    </tr>\n",
       "  </tbody>\n",
       "</table>\n",
       "<p>3707448 rows × 6 columns</p>\n",
       "</div>"
      ],
      "text/plain": [
       "         Unnamed: 0       lat         lon  day  month  Labels\n",
       "0                 0 -6.270088  107.043609   25      9    True\n",
       "1                 1 -6.270088  107.043609   25      9    True\n",
       "2                 2 -6.270088  107.043609   25      9    True\n",
       "3                 3 -6.270088  107.043609   25      9    True\n",
       "4                 4 -6.270088  107.043609   25      9    True\n",
       "...             ...       ...         ...  ...    ...     ...\n",
       "3707443     3707443 -6.886813  107.581583   22     11    True\n",
       "3707444     3707444 -6.886813  107.581583   22     11    True\n",
       "3707445     3707445 -6.886813  107.581583   22     11    True\n",
       "3707446     3707446 -6.886813  107.581583   22     11    True\n",
       "3707447     3707447 -6.886813  107.581583   22     11    True\n",
       "\n",
       "[3707448 rows x 6 columns]"
      ]
     },
     "execution_count": 2,
     "metadata": {},
     "output_type": "execute_result"
    }
   ],
   "source": [
    "ready = pd.read_csv('ready.csv')\n",
    "ready"
   ]
  },
  {
   "cell_type": "code",
   "execution_count": 3,
   "id": "oriented-conjunction",
   "metadata": {},
   "outputs": [
    {
     "name": "stdout",
     "output_type": "stream",
     "text": [
      "<class 'pandas.core.frame.DataFrame'>\n",
      "RangeIndex: 3707448 entries, 0 to 3707447\n",
      "Data columns (total 6 columns):\n",
      " #   Column      Dtype  \n",
      "---  ------      -----  \n",
      " 0   Unnamed: 0  int64  \n",
      " 1   lat         float64\n",
      " 2   lon         float64\n",
      " 3   day         int64  \n",
      " 4   month       int64  \n",
      " 5   Labels      bool   \n",
      "dtypes: bool(1), float64(2), int64(3)\n",
      "memory usage: 145.0 MB\n"
     ]
    }
   ],
   "source": [
    "ready.info()"
   ]
  },
  {
   "cell_type": "code",
   "execution_count": 4,
   "id": "awful-sponsorship",
   "metadata": {},
   "outputs": [],
   "source": [
    "ready['x'] = np.cos(ready['lat']) * np.cos(ready['lon'])\n",
    "ready['y'] = np.cos(ready['lat']) * np.sin(ready['lon'])\n",
    "ready['z'] = np.sin(ready['lat'])"
   ]
  },
  {
   "cell_type": "code",
   "execution_count": 5,
   "id": "peaceful-springfield",
   "metadata": {},
   "outputs": [],
   "source": [
    "X = ready['x y z day month'.split()]\n",
    "y = np.where(ready['Labels']==True,1,0)"
   ]
  },
  {
   "cell_type": "code",
   "execution_count": 6,
   "id": "incoming-theorem",
   "metadata": {},
   "outputs": [],
   "source": [
    "X_train_val, X_test, y_train_val, y_test = train_test_split(X, y, stratify=y, random_state=24)"
   ]
  },
  {
   "cell_type": "markdown",
   "id": "interesting-austria",
   "metadata": {},
   "source": [
    "## LogisticRegression"
   ]
  },
  {
   "cell_type": "code",
   "execution_count": 7,
   "id": "alternate-federal",
   "metadata": {},
   "outputs": [],
   "source": [
    "lr_bal = LogisticRegression(class_weight='balanced', solver='liblinear')"
   ]
  },
  {
   "cell_type": "code",
   "execution_count": 8,
   "id": "protective-carbon",
   "metadata": {},
   "outputs": [
    {
     "name": "stderr",
     "output_type": "stream",
     "text": [
      "[Parallel(n_jobs=-1)]: Using backend LokyBackend with 4 concurrent workers.\n",
      "[Parallel(n_jobs=-1)]: Done   5 out of   5 | elapsed:  2.7min finished\n"
     ]
    }
   ],
   "source": [
    "skf = StratifiedKFold()\n",
    "lr_bal_cv = cross_val_score(lr_bal, X_train_val, y_train_val, cv=skf, n_jobs=-1, verbose=1, scoring='f1')"
   ]
  },
  {
   "cell_type": "code",
   "execution_count": 9,
   "id": "living-radio",
   "metadata": {},
   "outputs": [
    {
     "name": "stdout",
     "output_type": "stream",
     "text": [
      "LogisticRegression score CV: [0.8082896  0.80893749 0.80507037 0.80899092 0.80950665]\n",
      "LogisticRegression score CV mean: 0.8081590047166689\n",
      "LogisticRegression score CV std: 0.0015919149312136934\n"
     ]
    }
   ],
   "source": [
    "print('LogisticRegression score CV:', lr_bal_cv)\n",
    "print('LogisticRegression score CV mean:', lr_bal_cv.mean())\n",
    "print('LogisticRegression score CV std:', lr_bal_cv.std())"
   ]
  },
  {
   "cell_type": "markdown",
   "id": "flush-bullet",
   "metadata": {},
   "source": [
    "## DecisionTreeClassifier"
   ]
  },
  {
   "cell_type": "code",
   "execution_count": 10,
   "id": "caroline-ending",
   "metadata": {},
   "outputs": [
    {
     "name": "stderr",
     "output_type": "stream",
     "text": [
      "[Parallel(n_jobs=-1)]: Using backend LokyBackend with 4 concurrent workers.\n",
      "[Parallel(n_jobs=-1)]: Done   5 out of   5 | elapsed:  3.3min finished\n"
     ]
    }
   ],
   "source": [
    "dtc = DecisionTreeClassifier()\n",
    "dtc_cv = cross_val_score(dtc, X_train_val, y_train_val, cv=skf, n_jobs=-1, verbose=1, scoring='f1')"
   ]
  },
  {
   "cell_type": "code",
   "execution_count": 11,
   "id": "resident-christmas",
   "metadata": {},
   "outputs": [
    {
     "name": "stdout",
     "output_type": "stream",
     "text": [
      "DecisionTreeClassifier score CV: [0.99461097 0.99464311 0.99456712 0.99461038 0.99460529]\n",
      "DecisionTreeClassifier score CV mean: 0.9946073741563618\n",
      "DecisionTreeClassifier score CV std: 2.4181147461250605e-05\n"
     ]
    }
   ],
   "source": [
    "print('DecisionTreeClassifier score CV:', dtc_cv)\n",
    "print('DecisionTreeClassifier score CV mean:', dtc_cv.mean())\n",
    "print('DecisionTreeClassifier score CV std:', dtc_cv.std())"
   ]
  },
  {
   "cell_type": "markdown",
   "id": "taken-naples",
   "metadata": {},
   "source": [
    "## Calibrated DTC"
   ]
  },
  {
   "cell_type": "code",
   "execution_count": 12,
   "id": "taken-norman",
   "metadata": {},
   "outputs": [
    {
     "name": "stderr",
     "output_type": "stream",
     "text": [
      "[Parallel(n_jobs=-1)]: Using backend LokyBackend with 4 concurrent workers.\n",
      "[Parallel(n_jobs=-1)]: Done   5 out of   5 | elapsed: 12.9min finished\n"
     ]
    }
   ],
   "source": [
    "dtc = DecisionTreeClassifier()\n",
    "dtc_cal = CalibratedClassifierCV(dtc, method='isotonic')\n",
    "dtc_cal_cv = cross_val_score(dtc_cal, X_train_val, y_train_val, cv=skf, n_jobs=-1, verbose=1, scoring='f1')"
   ]
  },
  {
   "cell_type": "code",
   "execution_count": 13,
   "id": "median-washer",
   "metadata": {},
   "outputs": [
    {
     "name": "stdout",
     "output_type": "stream",
     "text": [
      "DecisionTreeClassifier Calibrated score CV: [0.99461097 0.99464566 0.99456712 0.99461038 0.99460529]\n",
      "DecisionTreeClassifier Calibrated score CV mean: 0.9946078850099633\n",
      "DecisionTreeClassifier Calibrated score CV std: 2.494560188746837e-05\n"
     ]
    }
   ],
   "source": [
    "print('DecisionTreeClassifier Calibrated score CV:', dtc_cal_cv)\n",
    "print('DecisionTreeClassifier Calibrated score CV mean:', dtc_cal_cv.mean())\n",
    "print('DecisionTreeClassifier Calibrated score CV std:', dtc_cal_cv.std())"
   ]
  },
  {
   "cell_type": "markdown",
   "id": "cosmetic-motion",
   "metadata": {},
   "source": [
    "## LogisticRegression Polynomial"
   ]
  },
  {
   "cell_type": "code",
   "execution_count": 14,
   "id": "capital-crest",
   "metadata": {},
   "outputs": [],
   "source": [
    "transformer = ColumnTransformer([\n",
    "        ('poly', PolynomialFeatures(degree=2, include_bias=False), ['x','y','z'])\n",
    "])\n",
    "\n",
    "logit_pipe = Pipeline([\n",
    "    ('trans', transformer),\n",
    "    ('clf', LogisticRegression(random_state=2020))\n",
    "])"
   ]
  },
  {
   "cell_type": "code",
   "execution_count": 15,
   "id": "narrow-finger",
   "metadata": {},
   "outputs": [
    {
     "name": "stderr",
     "output_type": "stream",
     "text": [
      "[Parallel(n_jobs=-1)]: Using backend LokyBackend with 4 concurrent workers.\n",
      "[Parallel(n_jobs=-1)]: Done   5 out of   5 | elapsed:  4.1min finished\n"
     ]
    },
    {
     "name": "stdout",
     "output_type": "stream",
     "text": [
      "Logit Poly score CV: [0.98163113 0.98163203 0.98163203 0.98163203 0.9816311 ]\n",
      "Logit Poly score CV mean: 0.9816316645806051\n",
      "Logit Poly score CV std: 4.4867954700368715e-07\n"
     ]
    }
   ],
   "source": [
    "logit_pipe_cv = cross_val_score(logit_pipe, X_train_val, y_train_val, cv=skf, n_jobs=-1, verbose=1, scoring='f1')\n",
    "print('Logit Poly score CV:', logit_pipe_cv)\n",
    "print('Logit Poly score CV mean:', logit_pipe_cv.mean())\n",
    "print('Logit Poly score CV std:', logit_pipe_cv.std())"
   ]
  },
  {
   "cell_type": "markdown",
   "id": "sustained-basics",
   "metadata": {},
   "source": [
    "## KNeighborsClassifier\n",
    "(Too heavy for my laptop)"
   ]
  },
  {
   "cell_type": "code",
   "execution_count": 16,
   "id": "varied-sailing",
   "metadata": {},
   "outputs": [
    {
     "data": {
      "text/html": [
       "<div>\n",
       "<style scoped>\n",
       "    .dataframe tbody tr th:only-of-type {\n",
       "        vertical-align: middle;\n",
       "    }\n",
       "\n",
       "    .dataframe tbody tr th {\n",
       "        vertical-align: top;\n",
       "    }\n",
       "\n",
       "    .dataframe thead th {\n",
       "        text-align: right;\n",
       "    }\n",
       "</style>\n",
       "<table border=\"1\" class=\"dataframe\">\n",
       "  <thead>\n",
       "    <tr style=\"text-align: right;\">\n",
       "      <th></th>\n",
       "      <th>x</th>\n",
       "      <th>y</th>\n",
       "      <th>z</th>\n",
       "      <th>day</th>\n",
       "      <th>month</th>\n",
       "    </tr>\n",
       "  </thead>\n",
       "  <tbody>\n",
       "    <tr>\n",
       "      <th>0</th>\n",
       "      <td>0.973706</td>\n",
       "      <td>0.227431</td>\n",
       "      <td>0.013097</td>\n",
       "      <td>25</td>\n",
       "      <td>9</td>\n",
       "    </tr>\n",
       "    <tr>\n",
       "      <th>1</th>\n",
       "      <td>0.973706</td>\n",
       "      <td>0.227431</td>\n",
       "      <td>0.013097</td>\n",
       "      <td>25</td>\n",
       "      <td>9</td>\n",
       "    </tr>\n",
       "    <tr>\n",
       "      <th>2</th>\n",
       "      <td>0.973706</td>\n",
       "      <td>0.227431</td>\n",
       "      <td>0.013097</td>\n",
       "      <td>25</td>\n",
       "      <td>9</td>\n",
       "    </tr>\n",
       "    <tr>\n",
       "      <th>3</th>\n",
       "      <td>0.973706</td>\n",
       "      <td>0.227431</td>\n",
       "      <td>0.013097</td>\n",
       "      <td>25</td>\n",
       "      <td>9</td>\n",
       "    </tr>\n",
       "    <tr>\n",
       "      <th>4</th>\n",
       "      <td>0.973706</td>\n",
       "      <td>0.227431</td>\n",
       "      <td>0.013097</td>\n",
       "      <td>25</td>\n",
       "      <td>9</td>\n",
       "    </tr>\n",
       "  </tbody>\n",
       "</table>\n",
       "</div>"
      ],
      "text/plain": [
       "          x         y         z  day  month\n",
       "0  0.973706  0.227431  0.013097   25      9\n",
       "1  0.973706  0.227431  0.013097   25      9\n",
       "2  0.973706  0.227431  0.013097   25      9\n",
       "3  0.973706  0.227431  0.013097   25      9\n",
       "4  0.973706  0.227431  0.013097   25      9"
      ]
     },
     "execution_count": 16,
     "metadata": {},
     "output_type": "execute_result"
    }
   ],
   "source": [
    "X.head()"
   ]
  },
  {
   "cell_type": "code",
   "execution_count": 17,
   "id": "potential-wealth",
   "metadata": {},
   "outputs": [],
   "source": [
    "# knn = KNeighborsClassifier()\n",
    "\n",
    "# scaler = ColumnTransformer([\n",
    "#         ('scaler', StandardScaler(), ['x','y','z', 'day', 'month'])\n",
    "# ])\n",
    "\n",
    "# knn_pipe = Pipeline([\n",
    "#     ('trans', transformer),\n",
    "#     ('clf', knn)\n",
    "# ])\n",
    "# knn_cv = cross_val_score(knn_pipe, X_train_val, y_train_val, cv=skf, n_jobs=-1, verbose=1)"
   ]
  },
  {
   "cell_type": "code",
   "execution_count": 18,
   "id": "varied-algeria",
   "metadata": {},
   "outputs": [],
   "source": [
    "# print('KNN score CV:', knn_cv)\n",
    "# print('KNN score CV mean:', knn_cv.mean())\n",
    "# print('KNN score CV std:', knn_cv.std())"
   ]
  },
  {
   "cell_type": "code",
   "execution_count": 19,
   "id": "personal-bangladesh",
   "metadata": {},
   "outputs": [
    {
     "data": {
      "image/png": "[encoded data removed]",
      "text/plain": [
       "<Figure size 720x720 with 1 Axes>"
      ]
     },
     "metadata": {
      "needs_background": "light"
     },
     "output_type": "display_data"
    }
   ],
   "source": [
    "plt.figure(figsize=(10,10))\n",
    "plt.plot(range(len(lr_bal_cv)), lr_bal_cv, label='Logit')\n",
    "plt.plot(range(len(logit_pipe_cv)), logit_pipe_cv, label='Logit Poly')\n",
    "plt.plot(range(len(dtc_cv)), dtc_cv, label='DTC')\n",
    "plt.plot(range(len(dtc_cal_cv)), dtc_cal_cv, label='DTC Calibrated')\n",
    "plt.legend()\n",
    "plt.ylim(0,1)\n",
    "plt.grid()\n",
    "plt.show()"
   ]
  },
  {
   "cell_type": "code",
   "execution_count": 20,
   "id": "statutory-stable",
   "metadata": {},
   "outputs": [],
   "source": [
    "dtc_cal.fit(X_train_val, y_train_val)\n",
    "y_pred_dtc_cal = dtc_cal.predict(X_test)"
   ]
  },
  {
   "cell_type": "code",
   "execution_count": 21,
   "id": "focal-configuration",
   "metadata": {},
   "outputs": [
    {
     "name": "stdout",
     "output_type": "stream",
     "text": [
      "              precision    recall  f1-score   support\n",
      "\n",
      "           0       0.79      0.97      0.87     33436\n",
      "           1       1.00      0.99      0.99    893426\n",
      "\n",
      "    accuracy                           0.99    926862\n",
      "   macro avg       0.89      0.98      0.93    926862\n",
      "weighted avg       0.99      0.99      0.99    926862\n",
      "\n"
     ]
    }
   ],
   "source": [
    "print(classification_report(y_test, y_pred_dtc_cal))"
   ]
  },
  {
   "cell_type": "code",
   "execution_count": null,
   "id": "convinced-bandwidth",
   "metadata": {},
   "outputs": [],
   "source": []
  }
 ],
 "metadata": {
  "kernelspec": {
   "display_name": "Python 3",
   "language": "python",
   "name": "python3"
  },
  "language_info": {
   "codemirror_mode": {
    "name": "ipython",
    "version": 3
   },
   "file_extension": ".py",
   "mimetype": "text/x-python",
   "name": "python",
   "nbconvert_exporter": "python",
   "pygments_lexer": "ipython3",
   "version": "3.7.4"
  }
 },
 "nbformat": 4,
 "nbformat_minor": 5
}
