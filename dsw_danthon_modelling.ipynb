{
 "cells": [
  {
   "cell_type": "code",
   "execution_count": 12,
   "id": "funded-crawford",
   "metadata": {},
   "outputs": [],
   "source": [
    "import numpy as np\n",
    "import pandas as pd\n",
    "import matplotlib.pyplot as plt\n",
    "import seaborn as sns\n",
    "\n",
    "from sklearn.model_selection import cross_val_score, GridSearchCV, RandomizedSearchCV, train_test_split, RepeatedStratifiedKFold\n",
    "\n",
    "from sklearn.preprocessing import StandardScaler, PolynomialFeatures\n",
    "from imblearn.pipeline import Pipeline\n",
    "\n",
    "from sklearn.linear_model import LogisticRegression\n",
    "from sklearn.ensemble import VotingClassifier\n",
    "from sklearn.tree import DecisionTreeClassifier\n",
    "from sklearn.neighbors import KNeighborsClassifier\n",
    "\n",
    "from sklearn.metrics import classification_report\n",
    "\n",
    "import datetime as dt\n",
    "\n",
    "pd.set_option('display.max_rows', 500)\n",
    "pd.set_option('display.max_columns', 500)"
   ]
  },
  {
   "cell_type": "code",
   "execution_count": 2,
   "id": "opponent-semiconductor",
   "metadata": {},
   "outputs": [
    {
     "data": {
      "text/html": [
       "<div>\n",
       "<style scoped>\n",
       "    .dataframe tbody tr th:only-of-type {\n",
       "        vertical-align: middle;\n",
       "    }\n",
       "\n",
       "    .dataframe tbody tr th {\n",
       "        vertical-align: top;\n",
       "    }\n",
       "\n",
       "    .dataframe thead th {\n",
       "        text-align: right;\n",
       "    }\n",
       "</style>\n",
       "<table border=\"1\" class=\"dataframe\">\n",
       "  <thead>\n",
       "    <tr style=\"text-align: right;\">\n",
       "      <th></th>\n",
       "      <th>Unnamed: 0</th>\n",
       "      <th>lat</th>\n",
       "      <th>lon</th>\n",
       "      <th>day</th>\n",
       "      <th>month</th>\n",
       "      <th>Labels</th>\n",
       "    </tr>\n",
       "  </thead>\n",
       "  <tbody>\n",
       "    <tr>\n",
       "      <th>0</th>\n",
       "      <td>0</td>\n",
       "      <td>-6.270088</td>\n",
       "      <td>107.043609</td>\n",
       "      <td>25</td>\n",
       "      <td>9</td>\n",
       "      <td>True</td>\n",
       "    </tr>\n",
       "    <tr>\n",
       "      <th>1</th>\n",
       "      <td>1</td>\n",
       "      <td>-6.270088</td>\n",
       "      <td>107.043609</td>\n",
       "      <td>25</td>\n",
       "      <td>9</td>\n",
       "      <td>True</td>\n",
       "    </tr>\n",
       "    <tr>\n",
       "      <th>2</th>\n",
       "      <td>2</td>\n",
       "      <td>-6.270088</td>\n",
       "      <td>107.043609</td>\n",
       "      <td>25</td>\n",
       "      <td>9</td>\n",
       "      <td>True</td>\n",
       "    </tr>\n",
       "    <tr>\n",
       "      <th>3</th>\n",
       "      <td>3</td>\n",
       "      <td>-6.270088</td>\n",
       "      <td>107.043609</td>\n",
       "      <td>25</td>\n",
       "      <td>9</td>\n",
       "      <td>True</td>\n",
       "    </tr>\n",
       "    <tr>\n",
       "      <th>4</th>\n",
       "      <td>4</td>\n",
       "      <td>-6.270088</td>\n",
       "      <td>107.043609</td>\n",
       "      <td>25</td>\n",
       "      <td>9</td>\n",
       "      <td>True</td>\n",
       "    </tr>\n",
       "    <tr>\n",
       "      <th>...</th>\n",
       "      <td>...</td>\n",
       "      <td>...</td>\n",
       "      <td>...</td>\n",
       "      <td>...</td>\n",
       "      <td>...</td>\n",
       "      <td>...</td>\n",
       "    </tr>\n",
       "    <tr>\n",
       "      <th>3707443</th>\n",
       "      <td>3707443</td>\n",
       "      <td>-6.886813</td>\n",
       "      <td>107.581583</td>\n",
       "      <td>22</td>\n",
       "      <td>11</td>\n",
       "      <td>True</td>\n",
       "    </tr>\n",
       "    <tr>\n",
       "      <th>3707444</th>\n",
       "      <td>3707444</td>\n",
       "      <td>-6.886813</td>\n",
       "      <td>107.581583</td>\n",
       "      <td>22</td>\n",
       "      <td>11</td>\n",
       "      <td>True</td>\n",
       "    </tr>\n",
       "    <tr>\n",
       "      <th>3707445</th>\n",
       "      <td>3707445</td>\n",
       "      <td>-6.886813</td>\n",
       "      <td>107.581583</td>\n",
       "      <td>22</td>\n",
       "      <td>11</td>\n",
       "      <td>True</td>\n",
       "    </tr>\n",
       "    <tr>\n",
       "      <th>3707446</th>\n",
       "      <td>3707446</td>\n",
       "      <td>-6.886813</td>\n",
       "      <td>107.581583</td>\n",
       "      <td>22</td>\n",
       "      <td>11</td>\n",
       "      <td>True</td>\n",
       "    </tr>\n",
       "    <tr>\n",
       "      <th>3707447</th>\n",
       "      <td>3707447</td>\n",
       "      <td>-6.886813</td>\n",
       "      <td>107.581583</td>\n",
       "      <td>22</td>\n",
       "      <td>11</td>\n",
       "      <td>True</td>\n",
       "    </tr>\n",
       "  </tbody>\n",
       "</table>\n",
       "<p>3707448 rows × 6 columns</p>\n",
       "</div>"
      ],
      "text/plain": [
       "         Unnamed: 0       lat         lon  day  month  Labels\n",
       "0                 0 -6.270088  107.043609   25      9    True\n",
       "1                 1 -6.270088  107.043609   25      9    True\n",
       "2                 2 -6.270088  107.043609   25      9    True\n",
       "3                 3 -6.270088  107.043609   25      9    True\n",
       "4                 4 -6.270088  107.043609   25      9    True\n",
       "...             ...       ...         ...  ...    ...     ...\n",
       "3707443     3707443 -6.886813  107.581583   22     11    True\n",
       "3707444     3707444 -6.886813  107.581583   22     11    True\n",
       "3707445     3707445 -6.886813  107.581583   22     11    True\n",
       "3707446     3707446 -6.886813  107.581583   22     11    True\n",
       "3707447     3707447 -6.886813  107.581583   22     11    True\n",
       "\n",
       "[3707448 rows x 6 columns]"
      ]
     },
     "execution_count": 2,
     "metadata": {},
     "output_type": "execute_result"
    }
   ],
   "source": [
    "ready = pd.read_csv('ready.csv')\n",
    "ready"
   ]
  },
  {
   "cell_type": "code",
   "execution_count": 6,
   "id": "systematic-amber",
   "metadata": {},
   "outputs": [
    {
     "name": "stdout",
     "output_type": "stream",
     "text": [
      "<class 'pandas.core.frame.DataFrame'>\n",
      "RangeIndex: 3707448 entries, 0 to 3707447\n",
      "Data columns (total 9 columns):\n",
      " #   Column      Dtype  \n",
      "---  ------      -----  \n",
      " 0   Unnamed: 0  int64  \n",
      " 1   lat         float64\n",
      " 2   lon         float64\n",
      " 3   day         int64  \n",
      " 4   month       int64  \n",
      " 5   Labels      bool   \n",
      " 6   x           float64\n",
      " 7   y           float64\n",
      " 8   z           float64\n",
      "dtypes: bool(1), float64(5), int64(3)\n",
      "memory usage: 229.8 MB\n"
     ]
    }
   ],
   "source": [
    "ready.info()"
   ]
  },
  {
   "cell_type": "code",
   "execution_count": 4,
   "id": "after-register",
   "metadata": {},
   "outputs": [],
   "source": [
    "ready['x'] = np.cos(ready['lat']) * np.cos(ready['lon'])\n",
    "ready['y'] = np.cos(ready['lat']) * np.sin(ready['lon'])\n",
    "ready['z'] = np.sin(ready['lat'])"
   ]
  },
  {
   "cell_type": "code",
   "execution_count": 7,
   "id": "foreign-interview",
   "metadata": {},
   "outputs": [],
   "source": [
    "X = ready['x y z day month'.split()]\n",
    "y = np.where(ready['Labels']==True,1,0)"
   ]
  },
  {
   "cell_type": "code",
   "execution_count": 8,
   "id": "technological-criminal",
   "metadata": {},
   "outputs": [],
   "source": [
    "X_train_val, X_test, y_train_val, y_test = train_test_split(X, y, stratify=y, random_state=24)"
   ]
  },
  {
   "cell_type": "code",
   "execution_count": 14,
   "id": "palestinian-pavilion",
   "metadata": {},
   "outputs": [],
   "source": [
    "lr_bal = LogisticRegression(class_weight='balanced', solver='liblinear')"
   ]
  },
  {
   "cell_type": "code",
   "execution_count": null,
   "id": "extra-individual",
   "metadata": {},
   "outputs": [],
   "source": [
    "rskf = RepeatedStratifiedKFold()\n",
    "lr_bal_cv = cross_val_score(lr_bal, X_train_val, y_train_val, cv=rskf, verbose=1)"
   ]
  },
  {
   "cell_type": "code",
   "execution_count": 13,
   "id": "correct-consciousness",
   "metadata": {},
   "outputs": [
    {
     "data": {
      "text/plain": [
       "LogisticRegression(class_weight='balanced', solver='liblinear')"
      ]
     },
     "execution_count": 13,
     "metadata": {},
     "output_type": "execute_result"
    }
   ],
   "source": [
    "lr_bal"
   ]
  },
  {
   "cell_type": "code",
   "execution_count": null,
   "id": "surrounded-andrew",
   "metadata": {},
   "outputs": [],
   "source": []
  }
 ],
 "metadata": {
  "kernelspec": {
   "display_name": "Python 3",
   "language": "python",
   "name": "python3"
  },
  "language_info": {
   "codemirror_mode": {
    "name": "ipython",
    "version": 3
   },
   "file_extension": ".py",
   "mimetype": "text/x-python",
   "name": "python",
   "nbconvert_exporter": "python",
   "pygments_lexer": "ipython3",
   "version": "3.7.4"
  }
 },
 "nbformat": 4,
 "nbformat_minor": 5
}
