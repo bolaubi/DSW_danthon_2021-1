{
 "cells": [
  {
   "cell_type": "code",
   "execution_count": 1,
   "id": "ongoing-california",
   "metadata": {},
   "outputs": [],
   "source": [
    "import numpy as np\n",
    "import pandas as pd\n",
    "import matplotlib.pyplot as plt\n",
    "import seaborn as sns\n",
    "\n",
    "from sklearn.model_selection import cross_val_score, GridSearchCV, RandomizedSearchCV, train_test_split, StratifiedKFold\n",
    "from sklearn.calibration import CalibratedClassifierCV\n",
    "from sklearn.compose import ColumnTransformer\n",
    "from sklearn.ensemble import VotingClassifier\n",
    "from sklearn.naive_bayes import GaussianNB\n",
    "from sklearn.metrics import classification_report, plot_precision_recall_curve, plot_roc_curve\n",
    "\n",
    "from sklearn.preprocessing import StandardScaler, PolynomialFeatures, KBinsDiscretizer\n",
    "from imblearn.pipeline import Pipeline\n",
    "from imblearn.over_sampling import SMOTE\n",
    "\n",
    "from sklearn.linear_model import LogisticRegression\n",
    "from sklearn.ensemble import VotingClassifier\n",
    "from sklearn.tree import DecisionTreeClassifier\n",
    "from sklearn.neighbors import KNeighborsClassifier\n",
    "\n",
    "from sklearn.metrics import classification_report\n",
    "\n",
    "import datetime as dt\n",
    "\n",
    "pd.set_option('display.max_rows', 500)\n",
    "pd.set_option('display.max_columns', 500)"
   ]
  },
  {
   "cell_type": "code",
   "execution_count": 2,
   "id": "steady-search",
   "metadata": {},
   "outputs": [
    {
     "data": {
      "text/html": [
       "<div>\n",
       "<style scoped>\n",
       "    .dataframe tbody tr th:only-of-type {\n",
       "        vertical-align: middle;\n",
       "    }\n",
       "\n",
       "    .dataframe tbody tr th {\n",
       "        vertical-align: top;\n",
       "    }\n",
       "\n",
       "    .dataframe thead th {\n",
       "        text-align: right;\n",
       "    }\n",
       "</style>\n",
       "<table border=\"1\" class=\"dataframe\">\n",
       "  <thead>\n",
       "    <tr style=\"text-align: right;\">\n",
       "      <th></th>\n",
       "      <th>Unnamed: 0</th>\n",
       "      <th>lat</th>\n",
       "      <th>lon</th>\n",
       "      <th>day</th>\n",
       "      <th>month</th>\n",
       "      <th>Labels</th>\n",
       "      <th>hour_y</th>\n",
       "    </tr>\n",
       "  </thead>\n",
       "  <tbody>\n",
       "    <tr>\n",
       "      <th>0</th>\n",
       "      <td>0</td>\n",
       "      <td>-6.270088</td>\n",
       "      <td>107.043609</td>\n",
       "      <td>25</td>\n",
       "      <td>9</td>\n",
       "      <td>True</td>\n",
       "      <td>10</td>\n",
       "    </tr>\n",
       "    <tr>\n",
       "      <th>1</th>\n",
       "      <td>1</td>\n",
       "      <td>-6.270088</td>\n",
       "      <td>107.043609</td>\n",
       "      <td>25</td>\n",
       "      <td>9</td>\n",
       "      <td>True</td>\n",
       "      <td>10</td>\n",
       "    </tr>\n",
       "    <tr>\n",
       "      <th>2</th>\n",
       "      <td>2</td>\n",
       "      <td>-6.270088</td>\n",
       "      <td>107.043609</td>\n",
       "      <td>25</td>\n",
       "      <td>9</td>\n",
       "      <td>True</td>\n",
       "      <td>10</td>\n",
       "    </tr>\n",
       "    <tr>\n",
       "      <th>3</th>\n",
       "      <td>3</td>\n",
       "      <td>-6.270088</td>\n",
       "      <td>107.043609</td>\n",
       "      <td>25</td>\n",
       "      <td>9</td>\n",
       "      <td>True</td>\n",
       "      <td>10</td>\n",
       "    </tr>\n",
       "    <tr>\n",
       "      <th>4</th>\n",
       "      <td>4</td>\n",
       "      <td>-6.270088</td>\n",
       "      <td>107.043609</td>\n",
       "      <td>25</td>\n",
       "      <td>9</td>\n",
       "      <td>True</td>\n",
       "      <td>10</td>\n",
       "    </tr>\n",
       "    <tr>\n",
       "      <th>...</th>\n",
       "      <td>...</td>\n",
       "      <td>...</td>\n",
       "      <td>...</td>\n",
       "      <td>...</td>\n",
       "      <td>...</td>\n",
       "      <td>...</td>\n",
       "      <td>...</td>\n",
       "    </tr>\n",
       "    <tr>\n",
       "      <th>3707443</th>\n",
       "      <td>3707443</td>\n",
       "      <td>-6.886813</td>\n",
       "      <td>107.581583</td>\n",
       "      <td>22</td>\n",
       "      <td>11</td>\n",
       "      <td>True</td>\n",
       "      <td>17</td>\n",
       "    </tr>\n",
       "    <tr>\n",
       "      <th>3707444</th>\n",
       "      <td>3707444</td>\n",
       "      <td>-6.886813</td>\n",
       "      <td>107.581583</td>\n",
       "      <td>22</td>\n",
       "      <td>11</td>\n",
       "      <td>True</td>\n",
       "      <td>17</td>\n",
       "    </tr>\n",
       "    <tr>\n",
       "      <th>3707445</th>\n",
       "      <td>3707445</td>\n",
       "      <td>-6.886813</td>\n",
       "      <td>107.581583</td>\n",
       "      <td>22</td>\n",
       "      <td>11</td>\n",
       "      <td>True</td>\n",
       "      <td>17</td>\n",
       "    </tr>\n",
       "    <tr>\n",
       "      <th>3707446</th>\n",
       "      <td>3707446</td>\n",
       "      <td>-6.886813</td>\n",
       "      <td>107.581583</td>\n",
       "      <td>22</td>\n",
       "      <td>11</td>\n",
       "      <td>True</td>\n",
       "      <td>17</td>\n",
       "    </tr>\n",
       "    <tr>\n",
       "      <th>3707447</th>\n",
       "      <td>3707447</td>\n",
       "      <td>-6.886813</td>\n",
       "      <td>107.581583</td>\n",
       "      <td>22</td>\n",
       "      <td>11</td>\n",
       "      <td>True</td>\n",
       "      <td>17</td>\n",
       "    </tr>\n",
       "  </tbody>\n",
       "</table>\n",
       "<p>3707448 rows × 7 columns</p>\n",
       "</div>"
      ],
      "text/plain": [
       "         Unnamed: 0       lat         lon  day  month  Labels  hour_y\n",
       "0                 0 -6.270088  107.043609   25      9    True      10\n",
       "1                 1 -6.270088  107.043609   25      9    True      10\n",
       "2                 2 -6.270088  107.043609   25      9    True      10\n",
       "3                 3 -6.270088  107.043609   25      9    True      10\n",
       "4                 4 -6.270088  107.043609   25      9    True      10\n",
       "...             ...       ...         ...  ...    ...     ...     ...\n",
       "3707443     3707443 -6.886813  107.581583   22     11    True      17\n",
       "3707444     3707444 -6.886813  107.581583   22     11    True      17\n",
       "3707445     3707445 -6.886813  107.581583   22     11    True      17\n",
       "3707446     3707446 -6.886813  107.581583   22     11    True      17\n",
       "3707447     3707447 -6.886813  107.581583   22     11    True      17\n",
       "\n",
       "[3707448 rows x 7 columns]"
      ]
     },
     "execution_count": 2,
     "metadata": {},
     "output_type": "execute_result"
    }
   ],
   "source": [
    "ready = pd.read_csv('ready.csv')\n",
    "ready"
   ]
  },
  {
   "cell_type": "code",
   "execution_count": 3,
   "id": "bulgarian-smooth",
   "metadata": {},
   "outputs": [
    {
     "name": "stdout",
     "output_type": "stream",
     "text": [
      "<class 'pandas.core.frame.DataFrame'>\n",
      "RangeIndex: 3707448 entries, 0 to 3707447\n",
      "Data columns (total 7 columns):\n",
      " #   Column      Dtype  \n",
      "---  ------      -----  \n",
      " 0   Unnamed: 0  int64  \n",
      " 1   lat         float64\n",
      " 2   lon         float64\n",
      " 3   day         int64  \n",
      " 4   month       int64  \n",
      " 5   Labels      bool   \n",
      " 6   hour_y      int64  \n",
      "dtypes: bool(1), float64(2), int64(4)\n",
      "memory usage: 173.2 MB\n"
     ]
    }
   ],
   "source": [
    "ready.info()"
   ]
  },
  {
   "cell_type": "code",
   "execution_count": 4,
   "id": "dated-parks",
   "metadata": {},
   "outputs": [],
   "source": [
    "ready['x'] = np.cos(ready['lat']) * np.cos(ready['lon'])\n",
    "ready['y'] = np.cos(ready['lat']) * np.sin(ready['lon'])\n",
    "ready['z'] = np.sin(ready['lat'])"
   ]
  },
  {
   "cell_type": "code",
   "execution_count": 5,
   "id": "remarkable-approach",
   "metadata": {},
   "outputs": [],
   "source": [
    "X = ready['x y z day month hour_y'.split()]\n",
    "y = np.where(ready['Labels']==True,1,0)"
   ]
  },
  {
   "cell_type": "code",
   "execution_count": 6,
   "id": "amber-contact",
   "metadata": {},
   "outputs": [],
   "source": [
    "X_train_val, X_test, y_train_val, y_test = train_test_split(X, y, stratify=y, random_state=24)"
   ]
  },
  {
   "cell_type": "markdown",
   "id": "protective-smile",
   "metadata": {},
   "source": [
    "## LogisticRegression"
   ]
  },
  {
   "cell_type": "code",
   "execution_count": 7,
   "id": "deadly-clone",
   "metadata": {},
   "outputs": [],
   "source": [
    "lr_bal = LogisticRegression(class_weight='balanced', solver='liblinear')"
   ]
  },
  {
   "cell_type": "code",
   "execution_count": 8,
   "id": "dietary-donna",
   "metadata": {},
   "outputs": [
    {
     "name": "stderr",
     "output_type": "stream",
     "text": [
      "[Parallel(n_jobs=-1)]: Using backend LokyBackend with 4 concurrent workers.\n",
      "[Parallel(n_jobs=-1)]: Done   5 out of   5 | elapsed:   47.6s finished\n"
     ]
    }
   ],
   "source": [
    "skf = StratifiedKFold()\n",
    "lr_bal_cv = cross_val_score(lr_bal, X_train_val, y_train_val, cv=skf, n_jobs=-1, verbose=1, scoring='f1')"
   ]
  },
  {
   "cell_type": "code",
   "execution_count": 9,
   "id": "violent-scholarship",
   "metadata": {},
   "outputs": [
    {
     "name": "stdout",
     "output_type": "stream",
     "text": [
      "LogisticRegression score CV: [0.8676313  0.86796115 0.86777326 0.86776114 0.87026637]\n",
      "LogisticRegression score CV mean: 0.8682786430024618\n",
      "LogisticRegression score CV std: 0.0009994122019199175\n"
     ]
    }
   ],
   "source": [
    "print('LogisticRegression score CV:', lr_bal_cv)\n",
    "print('LogisticRegression score CV mean:', lr_bal_cv.mean())\n",
    "print('LogisticRegression score CV std:', lr_bal_cv.std())"
   ]
  },
  {
   "cell_type": "markdown",
   "id": "voluntary-stocks",
   "metadata": {},
   "source": [
    "## DecisionTreeClassifier"
   ]
  },
  {
   "cell_type": "code",
   "execution_count": 10,
   "id": "national-kinase",
   "metadata": {},
   "outputs": [
    {
     "name": "stderr",
     "output_type": "stream",
     "text": [
      "[Parallel(n_jobs=-1)]: Using backend LokyBackend with 4 concurrent workers.\n",
      "[Parallel(n_jobs=-1)]: Done   5 out of   5 | elapsed:   57.8s finished\n"
     ]
    }
   ],
   "source": [
    "dtc = DecisionTreeClassifier()\n",
    "dtc_cv = cross_val_score(dtc, X_train_val, y_train_val, cv=skf, n_jobs=-1, verbose=1, scoring='f1')"
   ]
  },
  {
   "cell_type": "code",
   "execution_count": 11,
   "id": "aggregate-welcome",
   "metadata": {},
   "outputs": [
    {
     "name": "stdout",
     "output_type": "stream",
     "text": [
      "DecisionTreeClassifier score CV: [1.         1.         0.99999907 1.         0.99999813]\n",
      "DecisionTreeClassifier score CV mean: 0.9999994403571517\n",
      "DecisionTreeClassifier score CV std: 7.461906095130516e-07\n"
     ]
    }
   ],
   "source": [
    "print('DecisionTreeClassifier score CV:', dtc_cv)\n",
    "print('DecisionTreeClassifier score CV mean:', dtc_cv.mean())\n",
    "print('DecisionTreeClassifier score CV std:', dtc_cv.std())"
   ]
  },
  {
   "cell_type": "markdown",
   "id": "human-arizona",
   "metadata": {},
   "source": [
    "## Calibrated DTC"
   ]
  },
  {
   "cell_type": "code",
   "execution_count": 12,
   "id": "rocky-jackson",
   "metadata": {},
   "outputs": [
    {
     "name": "stderr",
     "output_type": "stream",
     "text": [
      "[Parallel(n_jobs=-1)]: Using backend LokyBackend with 4 concurrent workers.\n",
      "[Parallel(n_jobs=-1)]: Done   5 out of   5 | elapsed:  3.9min finished\n"
     ]
    }
   ],
   "source": [
    "dtc = DecisionTreeClassifier()\n",
    "dtc_cal = CalibratedClassifierCV(dtc, method='isotonic')\n",
    "dtc_cal_cv = cross_val_score(dtc_cal, X_train_val, y_train_val, cv=skf, n_jobs=-1, verbose=1, scoring='f1')"
   ]
  },
  {
   "cell_type": "code",
   "execution_count": 13,
   "id": "pending-grain",
   "metadata": {},
   "outputs": [
    {
     "name": "stdout",
     "output_type": "stream",
     "text": [
      "DecisionTreeClassifier Calibrated score CV: [1.         1.         0.99999907 1.         0.99999813]\n",
      "DecisionTreeClassifier Calibrated score CV mean: 0.9999994403571517\n",
      "DecisionTreeClassifier Calibrated score CV std: 7.461906095130516e-07\n"
     ]
    }
   ],
   "source": [
    "print('DecisionTreeClassifier Calibrated score CV:', dtc_cal_cv)\n",
    "print('DecisionTreeClassifier Calibrated score CV mean:', dtc_cal_cv.mean())\n",
    "print('DecisionTreeClassifier Calibrated score CV std:', dtc_cal_cv.std())"
   ]
  },
  {
   "cell_type": "markdown",
   "id": "unable-cyprus",
   "metadata": {},
   "source": [
    "## LogisticRegression Polynomial"
   ]
  },
  {
   "cell_type": "code",
   "execution_count": 14,
   "id": "virtual-breast",
   "metadata": {},
   "outputs": [],
   "source": [
    "transformer = ColumnTransformer([\n",
    "        ('poly', PolynomialFeatures(degree=2, include_bias=False), ['x','y','z'])\n",
    "], remainder='passthrough')\n",
    "\n",
    "logit_pipe = Pipeline([\n",
    "    ('trans', transformer),\n",
    "    ('clf', LogisticRegression(random_state=2020))\n",
    "])"
   ]
  },
  {
   "cell_type": "code",
   "execution_count": 15,
   "id": "becoming-progressive",
   "metadata": {},
   "outputs": [
    {
     "name": "stderr",
     "output_type": "stream",
     "text": [
      "[Parallel(n_jobs=-1)]: Using backend LokyBackend with 4 concurrent workers.\n"
     ]
    },
    {
     "name": "stdout",
     "output_type": "stream",
     "text": [
      "Logit Poly score CV: [0.98137185 0.98135503 0.98136529 0.98135782 0.98137555]\n",
      "Logit Poly score CV mean: 0.9813651079809835\n",
      "Logit Poly score CV std: 7.864487806645093e-06\n"
     ]
    },
    {
     "name": "stderr",
     "output_type": "stream",
     "text": [
      "[Parallel(n_jobs=-1)]: Done   5 out of   5 | elapsed:  1.3min finished\n"
     ]
    }
   ],
   "source": [
    "logit_pipe_cv = cross_val_score(logit_pipe, X_train_val, y_train_val, cv=skf, n_jobs=-1, verbose=1, scoring='f1')\n",
    "print('Logit Poly score CV:', logit_pipe_cv)\n",
    "print('Logit Poly score CV mean:', logit_pipe_cv.mean())\n",
    "print('Logit Poly score CV std:', logit_pipe_cv.std())"
   ]
  },
  {
   "cell_type": "markdown",
   "id": "tutorial-graphics",
   "metadata": {},
   "source": [
    "## KNeighborsClassifier\n",
    "(Too heavy for my laptop)"
   ]
  },
  {
   "cell_type": "code",
   "execution_count": 16,
   "id": "optional-commercial",
   "metadata": {},
   "outputs": [],
   "source": [
    "# X.head()"
   ]
  },
  {
   "cell_type": "code",
   "execution_count": 17,
   "id": "looking-shepherd",
   "metadata": {},
   "outputs": [],
   "source": [
    "# knn = KNeighborsClassifier()\n",
    "\n",
    "# scaler = ColumnTransformer([\n",
    "#         ('scaler', StandardScaler(), ['x','y','z', 'day', 'month'])\n",
    "# ])\n",
    "\n",
    "# knn_pipe = Pipeline([\n",
    "#     ('trans', transformer),\n",
    "#     ('clf', knn)\n",
    "# ])\n",
    "# knn_cv = cross_val_score(knn_pipe, X_train_val, y_train_val, cv=skf, n_jobs=-1, verbose=1, scoring='f1')"
   ]
  },
  {
   "cell_type": "code",
   "execution_count": 18,
   "id": "geological-broadcast",
   "metadata": {},
   "outputs": [],
   "source": [
    "# print('KNN score CV:', knn_cv)\n",
    "# print('KNN score CV mean:', knn_cv.mean())\n",
    "# print('KNN score CV std:', knn_cv.std())"
   ]
  },
  {
   "cell_type": "markdown",
   "id": "first-facility",
   "metadata": {},
   "source": [
    "## Gaussian NaiveBayes"
   ]
  },
  {
   "cell_type": "code",
   "execution_count": 19,
   "id": "abroad-browse",
   "metadata": {},
   "outputs": [],
   "source": [
    "from scipy import stats"
   ]
  },
  {
   "cell_type": "code",
   "execution_count": 20,
   "id": "white-triumph",
   "metadata": {},
   "outputs": [
    {
     "data": {
      "text/plain": [
       "Unnamed: 0    0.0\n",
       "lat           0.0\n",
       "lon           0.0\n",
       "day           0.0\n",
       "month         0.0\n",
       "Labels        0.0\n",
       "hour_y        0.0\n",
       "x             0.0\n",
       "y             0.0\n",
       "z             0.0\n",
       "dtype: float64"
      ]
     },
     "execution_count": 20,
     "metadata": {},
     "output_type": "execute_result"
    }
   ],
   "source": [
    "ready.isna().sum()/len(ready)*100"
   ]
  },
  {
   "cell_type": "code",
   "execution_count": 21,
   "id": "preliminary-connecticut",
   "metadata": {},
   "outputs": [
    {
     "name": "stdout",
     "output_type": "stream",
     "text": [
      "x not normal\n",
      "y not normal\n",
      "z not normal\n"
     ]
    }
   ],
   "source": [
    "for i in 'x y z'.split():\n",
    "    s, p = stats.normaltest(ready[i])\n",
    "    if p < 0.05:\n",
    "        print(f'{i} not normal')\n",
    "    else:\n",
    "        print(f'{i} normal')"
   ]
  },
  {
   "cell_type": "code",
   "execution_count": 22,
   "id": "relevant-rogers",
   "metadata": {},
   "outputs": [
    {
     "name": "stderr",
     "output_type": "stream",
     "text": [
      "[Parallel(n_jobs=-1)]: Using backend LokyBackend with 4 concurrent workers.\n",
      "[Parallel(n_jobs=-1)]: Done   5 out of   5 | elapsed:    5.2s finished\n"
     ]
    }
   ],
   "source": [
    "gnb = GaussianNB()\n",
    "\n",
    "gnb_cv = cross_val_score(gnb, X_train_val, y_train_val, cv=skf, n_jobs=-1, verbose=1, scoring='f1')"
   ]
  },
  {
   "cell_type": "code",
   "execution_count": 23,
   "id": "hairy-library",
   "metadata": {},
   "outputs": [
    {
     "name": "stdout",
     "output_type": "stream",
     "text": [
      "GNB score CV: [0.96090306 0.96099958 0.96090266 0.96091319 0.96088928]\n",
      "GNB score CV mean: 0.960921552077344\n",
      "GNB score CV std: 3.974571354652081e-05\n"
     ]
    }
   ],
   "source": [
    "print('GNB score CV:', gnb_cv)\n",
    "print('GNB score CV mean:', gnb_cv.mean())\n",
    "print('GNB score CV std:', gnb_cv.std())"
   ]
  },
  {
   "cell_type": "markdown",
   "id": "atlantic-superior",
   "metadata": {},
   "source": [
    "## Comparing All Model"
   ]
  },
  {
   "cell_type": "code",
   "execution_count": 24,
   "id": "blond-details",
   "metadata": {},
   "outputs": [
    {
     "data": {
      "image/png": "[encoded data removed]",
      "text/plain": [
       "<Figure size 576x576 with 1 Axes>"
      ]
     },
     "metadata": {
      "needs_background": "light"
     },
     "output_type": "display_data"
    }
   ],
   "source": [
    "plt.figure(figsize=(8,8))\n",
    "plt.plot(range(len(lr_bal_cv)), lr_bal_cv, label='Logit')\n",
    "plt.plot(range(len(logit_pipe_cv)), logit_pipe_cv, label='Logit Poly')\n",
    "plt.plot(range(len(dtc_cv)), dtc_cv, label='DTC')\n",
    "plt.plot(range(len(dtc_cal_cv)), dtc_cal_cv, label='DTC Calibrated')\n",
    "plt.plot(range(len(gnb_cv)), gnb_cv, label='GaussianNB')\n",
    "plt.legend()\n",
    "plt.ylim(0,1)\n",
    "plt.grid()\n",
    "plt.show()"
   ]
  },
  {
   "cell_type": "code",
   "execution_count": 25,
   "id": "typical-anthropology",
   "metadata": {},
   "outputs": [
    {
     "name": "stdout",
     "output_type": "stream",
     "text": [
      "0.9999994403571517\n",
      "0.9999994403571517\n"
     ]
    }
   ],
   "source": [
    "print(dtc_cv.mean())\n",
    "print(dtc_cal_cv.mean())"
   ]
  },
  {
   "cell_type": "code",
   "execution_count": 26,
   "id": "moral-porter",
   "metadata": {},
   "outputs": [
    {
     "data": {
      "image/png": "[encoded data removed]",
      "text/plain": [
       "<Figure size 576x576 with 1 Axes>"
      ]
     },
     "metadata": {
      "needs_background": "light"
     },
     "output_type": "display_data"
    }
   ],
   "source": [
    "plt.figure(figsize=(8,8))\n",
    "plt.plot(range(len(dtc_cv)), dtc_cv, label='DTC')\n",
    "plt.plot(range(len(dtc_cal_cv)), dtc_cal_cv, label='DTC Calibrated')\n",
    "plt.legend()\n",
    "plt.ylim(0,1)\n",
    "plt.grid()\n",
    "plt.show()"
   ]
  },
  {
   "cell_type": "code",
   "execution_count": 27,
   "id": "immune-blond",
   "metadata": {},
   "outputs": [],
   "source": [
    "dtc_cal.fit(X_train_val, y_train_val)\n",
    "y_pred_dtc_cal = dtc_cal.predict(X_test)"
   ]
  },
  {
   "cell_type": "code",
   "execution_count": 28,
   "id": "rolled-planet",
   "metadata": {},
   "outputs": [
    {
     "name": "stdout",
     "output_type": "stream",
     "text": [
      "              precision    recall  f1-score   support\n",
      "\n",
      "           0       1.00      1.00      1.00     33436\n",
      "           1       1.00      1.00      1.00    893426\n",
      "\n",
      "    accuracy                           1.00    926862\n",
      "   macro avg       1.00      1.00      1.00    926862\n",
      "weighted avg       1.00      1.00      1.00    926862\n",
      "\n"
     ]
    }
   ],
   "source": [
    "print(classification_report(y_test, y_pred_dtc_cal))"
   ]
  },
  {
   "cell_type": "markdown",
   "id": "systematic-terrorism",
   "metadata": {},
   "source": [
    "## Using Voting Classifier"
   ]
  },
  {
   "cell_type": "code",
   "execution_count": 29,
   "id": "prospective-slovenia",
   "metadata": {},
   "outputs": [
    {
     "name": "stderr",
     "output_type": "stream",
     "text": [
      "[Parallel(n_jobs=-1)]: Using backend LokyBackend with 4 concurrent workers.\n",
      "[Parallel(n_jobs=-1)]: Done   5 out of   5 | elapsed:  4.7min finished\n"
     ]
    }
   ],
   "source": [
    "vclf = VotingClassifier([('logit',logit_pipe), ('dtc', dtc_cal), ('gaussian', gnb)], voting='soft', n_jobs=-1)\n",
    "# vclf.fit(X_train_val, y_train_val)\n",
    "vclf_cv = cross_val_score(vclf, X_train_val, y_train_val, cv=skf, n_jobs=-1, verbose=1, scoring='f1')"
   ]
  },
  {
   "cell_type": "code",
   "execution_count": 30,
   "id": "changed-local",
   "metadata": {},
   "outputs": [
    {
     "name": "stdout",
     "output_type": "stream",
     "text": [
      "VCLF score CV: [0.99195325 0.9918156  0.99189451 0.99186607 0.99176329]\n",
      "VCLF score CV mean: 0.9918585444163168\n",
      "VCLF score CV std: 6.517262941469088e-05\n"
     ]
    }
   ],
   "source": [
    "print('VCLF score CV:', vclf_cv)\n",
    "print('VCLF score CV mean:', vclf_cv.mean())\n",
    "print('VCLF score CV std:', vclf_cv.std())"
   ]
  },
  {
   "cell_type": "code",
   "execution_count": 31,
   "id": "surprised-snapshot",
   "metadata": {},
   "outputs": [
    {
     "data": {
      "image/png": "[encoded data removed]",
      "text/plain": [
       "<Figure size 576x576 with 1 Axes>"
      ]
     },
     "metadata": {
      "needs_background": "light"
     },
     "output_type": "display_data"
    }
   ],
   "source": [
    "plt.figure(figsize=(8,8))\n",
    "plt.plot(range(len(lr_bal_cv)), lr_bal_cv, label='Logit')\n",
    "plt.plot(range(len(logit_pipe_cv)), logit_pipe_cv, label='Logit Poly')\n",
    "plt.plot(range(len(dtc_cv)), dtc_cv, label='DTC')\n",
    "plt.plot(range(len(dtc_cal_cv)), dtc_cal_cv, label='DTC Calibrated')\n",
    "plt.plot(range(len(gnb_cv)), gnb_cv, label='GaussianNB')\n",
    "plt.plot(range(len(vclf_cv)), vclf_cv, label='VotingSoft')\n",
    "plt.legend()\n",
    "plt.ylim(0.8,1)\n",
    "plt.grid()\n",
    "plt.show()"
   ]
  },
  {
   "cell_type": "code",
   "execution_count": 32,
   "id": "rough-commissioner",
   "metadata": {},
   "outputs": [
    {
     "data": {
      "image/png": "[encoded data removed]",
      "text/plain": [
       "<Figure size 1152x576 with 2 Axes>"
      ]
     },
     "metadata": {
      "needs_background": "light"
     },
     "output_type": "display_data"
    }
   ],
   "source": [
    "all_metrics = pd.DataFrame([lr_bal_cv, logit_pipe_cv, dtc_cv, dtc_cal_cv, gnb_cv, vclf_cv],\n",
    "                           columns=[1,2,3,4,5],\n",
    "                          index=['Logit_Balanced', 'Logit_Poly', 'DTC', 'DTC Calibrated', 'GaussianNB', 'VotingSoft'])\n",
    "plt.figure(figsize=(16,8))\n",
    "sns.heatmap(all_metrics, annot=True, cmap='YlGnBu')\n",
    "plt.show()"
   ]
  },
  {
   "cell_type": "markdown",
   "id": "formed-expansion",
   "metadata": {},
   "source": [
    "## DTC with KBins (`hour` and `day`)"
   ]
  },
  {
   "cell_type": "code",
   "execution_count": 33,
   "id": "intense-visit",
   "metadata": {},
   "outputs": [
    {
     "data": {
      "text/html": [
       "<div>\n",
       "<style scoped>\n",
       "    .dataframe tbody tr th:only-of-type {\n",
       "        vertical-align: middle;\n",
       "    }\n",
       "\n",
       "    .dataframe tbody tr th {\n",
       "        vertical-align: top;\n",
       "    }\n",
       "\n",
       "    .dataframe thead th {\n",
       "        text-align: right;\n",
       "    }\n",
       "</style>\n",
       "<table border=\"1\" class=\"dataframe\">\n",
       "  <thead>\n",
       "    <tr style=\"text-align: right;\">\n",
       "      <th></th>\n",
       "      <th>x</th>\n",
       "      <th>y</th>\n",
       "      <th>z</th>\n",
       "      <th>day</th>\n",
       "      <th>month</th>\n",
       "      <th>hour_y</th>\n",
       "    </tr>\n",
       "  </thead>\n",
       "  <tbody>\n",
       "    <tr>\n",
       "      <th>2822620</th>\n",
       "      <td>0.556439</td>\n",
       "      <td>0.549660</td>\n",
       "      <td>-0.623097</td>\n",
       "      <td>2</td>\n",
       "      <td>10</td>\n",
       "      <td>18</td>\n",
       "    </tr>\n",
       "    <tr>\n",
       "      <th>152859</th>\n",
       "      <td>0.562794</td>\n",
       "      <td>0.572634</td>\n",
       "      <td>-0.596115</td>\n",
       "      <td>30</td>\n",
       "      <td>10</td>\n",
       "      <td>10</td>\n",
       "    </tr>\n",
       "    <tr>\n",
       "      <th>1045314</th>\n",
       "      <td>0.945069</td>\n",
       "      <td>-0.000697</td>\n",
       "      <td>-0.326870</td>\n",
       "      <td>30</td>\n",
       "      <td>10</td>\n",
       "      <td>16</td>\n",
       "    </tr>\n",
       "    <tr>\n",
       "      <th>2338709</th>\n",
       "      <td>0.991760</td>\n",
       "      <td>0.087273</td>\n",
       "      <td>-0.093783</td>\n",
       "      <td>26</td>\n",
       "      <td>10</td>\n",
       "      <td>15</td>\n",
       "    </tr>\n",
       "    <tr>\n",
       "      <th>2743121</th>\n",
       "      <td>0.991941</td>\n",
       "      <td>-0.044647</td>\n",
       "      <td>-0.118576</td>\n",
       "      <td>30</td>\n",
       "      <td>10</td>\n",
       "      <td>13</td>\n",
       "    </tr>\n",
       "  </tbody>\n",
       "</table>\n",
       "</div>"
      ],
      "text/plain": [
       "                x         y         z  day  month  hour_y\n",
       "2822620  0.556439  0.549660 -0.623097    2     10      18\n",
       "152859   0.562794  0.572634 -0.596115   30     10      10\n",
       "1045314  0.945069 -0.000697 -0.326870   30     10      16\n",
       "2338709  0.991760  0.087273 -0.093783   26     10      15\n",
       "2743121  0.991941 -0.044647 -0.118576   30     10      13"
      ]
     },
     "execution_count": 33,
     "metadata": {},
     "output_type": "execute_result"
    }
   ],
   "source": [
    "X_train_val.head()"
   ]
  },
  {
   "cell_type": "code",
   "execution_count": 34,
   "id": "architectural-length",
   "metadata": {},
   "outputs": [],
   "source": [
    "kbins = KBinsDiscretizer(n_bins=3, encode='ordinal', strategy='uniform')\n",
    "\n",
    "kbins_trans = ColumnTransformer([\n",
    "    ('kbins', kbins, ['day','hour_y'])\n",
    "], remainder='passthrough')\n",
    "\n",
    "dtc_bins = Pipeline([\n",
    "    ('kbins', kbins_trans),\n",
    "    ('dtc', dtc)\n",
    "])"
   ]
  },
  {
   "cell_type": "code",
   "execution_count": 35,
   "id": "tamil-mapping",
   "metadata": {},
   "outputs": [
    {
     "name": "stderr",
     "output_type": "stream",
     "text": [
      "[Parallel(n_jobs=-1)]: Using backend LokyBackend with 4 concurrent workers.\n",
      "[Parallel(n_jobs=-1)]: Done   5 out of   5 | elapsed:   49.7s finished\n"
     ]
    }
   ],
   "source": [
    "dtc_bins_cv = cross_val_score(dtc_bins, X_train_val, y_train_val, cv=skf, n_jobs=-1, verbose=1, scoring='f1')"
   ]
  },
  {
   "cell_type": "code",
   "execution_count": 36,
   "id": "comparable-conspiracy",
   "metadata": {},
   "outputs": [
    {
     "name": "stdout",
     "output_type": "stream",
     "text": [
      "DTC Bins score CV: [0.99362863 0.99357606 0.99367902 0.99351731 0.99358736]\n",
      "DTC Bins score CV mean: 0.9935976768612008\n",
      "DTC Bins score CV std: 5.404943051305842e-05\n"
     ]
    }
   ],
   "source": [
    "print('DTC Bins score CV:', dtc_bins_cv)\n",
    "print('DTC Bins score CV mean:', dtc_bins_cv.mean())\n",
    "print('DTC Bins score CV std:', dtc_bins_cv.std())"
   ]
  },
  {
   "cell_type": "markdown",
   "id": "designed-craft",
   "metadata": {},
   "source": [
    "## Logit Poly and Binning"
   ]
  },
  {
   "cell_type": "code",
   "execution_count": 37,
   "id": "distributed-knock",
   "metadata": {},
   "outputs": [],
   "source": [
    "transformer = ColumnTransformer([\n",
    "        ('poly', PolynomialFeatures(degree=2, include_bias=False), ['x','y','z']),\n",
    "        ('kbins', kbins, ['day','hour_y'])\n",
    "], remainder='passthrough')\n",
    "\n",
    "logit_pipe_new = Pipeline([\n",
    "    ('trans', transformer),\n",
    "    ('clf', LogisticRegression(random_state=2020))\n",
    "])"
   ]
  },
  {
   "cell_type": "code",
   "execution_count": 38,
   "id": "ahead-sleep",
   "metadata": {},
   "outputs": [
    {
     "name": "stderr",
     "output_type": "stream",
     "text": [
      "[Parallel(n_jobs=-1)]: Using backend LokyBackend with 4 concurrent workers.\n",
      "[Parallel(n_jobs=-1)]: Done   5 out of   5 | elapsed:  1.3min finished\n"
     ]
    }
   ],
   "source": [
    "logit_pipe_new_cv = cross_val_score(logit_pipe_new, X_train_val, y_train_val, cv=skf, n_jobs=-1, verbose=1, scoring='f1')"
   ]
  },
  {
   "cell_type": "code",
   "execution_count": 39,
   "id": "mechanical-cherry",
   "metadata": {},
   "outputs": [
    {
     "name": "stdout",
     "output_type": "stream",
     "text": [
      "Logit Poly Bins score CV: [0.98148565 0.98149122 0.98153598 0.98147816 0.98150894]\n",
      "Logit Poly Bins score CV mean: 0.9814999888719995\n",
      "Logit Poly Bins score CV std: 2.0662302929762793e-05\n"
     ]
    }
   ],
   "source": [
    "print('Logit Poly Bins score CV:', logit_pipe_new_cv)\n",
    "print('Logit Poly Bins score CV mean:', logit_pipe_new_cv.mean())\n",
    "print('Logit Poly Bins score CV std:', logit_pipe_new_cv.std())"
   ]
  },
  {
   "cell_type": "code",
   "execution_count": 40,
   "id": "latest-lender",
   "metadata": {},
   "outputs": [
    {
     "data": {
      "image/png": "[encoded data removed]",
      "text/plain": [
       "<Figure size 1152x576 with 2 Axes>"
      ]
     },
     "metadata": {
      "needs_background": "light"
     },
     "output_type": "display_data"
    }
   ],
   "source": [
    "all_metrics = pd.DataFrame([lr_bal_cv, logit_pipe_cv, dtc_cv, dtc_cal_cv, gnb_cv, vclf_cv, dtc_bins_cv, logit_pipe_new_cv],\n",
    "                           columns=[1,2,3,4,5],\n",
    "                          index=['Logit_Balanced', 'Logit_Poly', 'DTC', 'DTC Calibrated', 'GaussianNB', 'VotingSoft', 'DTC_Bins', 'Logit_Poly_Bins'])\n",
    "plt.figure(figsize=(16,8))\n",
    "sns.heatmap(all_metrics, annot=True, cmap='YlGnBu')\n",
    "plt.show()"
   ]
  },
  {
   "cell_type": "code",
   "execution_count": 41,
   "id": "textile-glance",
   "metadata": {},
   "outputs": [
    {
     "name": "stderr",
     "output_type": "stream",
     "text": [
      "C:\\Users\\R7891\\Anaconda3\\lib\\site-packages\\sklearn\\linear_model\\_logistic.py:764: ConvergenceWarning: lbfgs failed to converge (status=1):\n",
      "STOP: TOTAL NO. of ITERATIONS REACHED LIMIT.\n",
      "\n",
      "Increase the number of iterations (max_iter) or scale the data as shown in:\n",
      "    https://scikit-learn.org/stable/modules/preprocessing.html\n",
      "Please also refer to the documentation for alternative solver options:\n",
      "    https://scikit-learn.org/stable/modules/linear_model.html#logistic-regression\n",
      "  extra_warning_msg=_LOGISTIC_SOLVER_CONVERGENCE_MSG)\n"
     ]
    },
    {
     "data": {
      "text/plain": [
       "<sklearn.metrics._plot.roc_curve.RocCurveDisplay at 0x1ea9be012c8>"
      ]
     },
     "execution_count": 41,
     "metadata": {},
     "output_type": "execute_result"
    },
    {
     "data": {
      "image/png": "[encoded data removed]",
      "text/plain": [
       "<Figure size 432x288 with 1 Axes>"
      ]
     },
     "metadata": {
      "needs_background": "light"
     },
     "output_type": "display_data"
    }
   ],
   "source": [
    "logit_pipe_new.fit(X_train_val, y_train_val)\n",
    "plot_roc_curve(logit_pipe_new, X_test, y_test)"
   ]
  },
  {
   "cell_type": "code",
   "execution_count": 42,
   "id": "extraordinary-orleans",
   "metadata": {},
   "outputs": [
    {
     "data": {
      "text/html": [
       "<div>\n",
       "<style scoped>\n",
       "    .dataframe tbody tr th:only-of-type {\n",
       "        vertical-align: middle;\n",
       "    }\n",
       "\n",
       "    .dataframe tbody tr th {\n",
       "        vertical-align: top;\n",
       "    }\n",
       "\n",
       "    .dataframe thead th {\n",
       "        text-align: right;\n",
       "    }\n",
       "</style>\n",
       "<table border=\"1\" class=\"dataframe\">\n",
       "  <thead>\n",
       "    <tr style=\"text-align: right;\">\n",
       "      <th></th>\n",
       "      <th>fpr</th>\n",
       "      <th>tpr</th>\n",
       "      <th>threshold</th>\n",
       "    </tr>\n",
       "  </thead>\n",
       "  <tbody>\n",
       "    <tr>\n",
       "      <th>2368</th>\n",
       "      <td>0.40896</td>\n",
       "      <td>0.902663</td>\n",
       "      <td>0.911703</td>\n",
       "    </tr>\n",
       "    <tr>\n",
       "      <th>2388</th>\n",
       "      <td>0.40896</td>\n",
       "      <td>0.907497</td>\n",
       "      <td>0.903398</td>\n",
       "    </tr>\n",
       "    <tr>\n",
       "      <th>2389</th>\n",
       "      <td>0.40896</td>\n",
       "      <td>0.907891</td>\n",
       "      <td>0.902913</td>\n",
       "    </tr>\n",
       "    <tr>\n",
       "      <th>2390</th>\n",
       "      <td>0.40896</td>\n",
       "      <td>0.908011</td>\n",
       "      <td>0.902819</td>\n",
       "    </tr>\n",
       "    <tr>\n",
       "      <th>2391</th>\n",
       "      <td>0.40896</td>\n",
       "      <td>0.908180</td>\n",
       "      <td>0.902727</td>\n",
       "    </tr>\n",
       "  </tbody>\n",
       "</table>\n",
       "</div>"
      ],
      "text/plain": [
       "          fpr       tpr  threshold\n",
       "2368  0.40896  0.902663   0.911703\n",
       "2388  0.40896  0.907497   0.903398\n",
       "2389  0.40896  0.907891   0.902913\n",
       "2390  0.40896  0.908011   0.902819\n",
       "2391  0.40896  0.908180   0.902727"
      ]
     },
     "execution_count": 42,
     "metadata": {},
     "output_type": "execute_result"
    }
   ],
   "source": [
    "from sklearn.metrics import roc_curve\n",
    "fpr, tpr, t = roc_curve(y_test, logit_pipe_new.predict_proba(X_test)[:,1])\n",
    "\n",
    "roc_df = pd.DataFrame({'fpr': fpr, 'tpr': tpr, 'threshold': t})\n",
    "roc_df[roc_df['tpr']>= 0.9].sort_values('fpr').head()"
   ]
  },
  {
   "cell_type": "code",
   "execution_count": 43,
   "id": "patent-brush",
   "metadata": {},
   "outputs": [
    {
     "name": "stdout",
     "output_type": "stream",
     "text": [
      "              precision    recall  f1-score   support\n",
      "\n",
      "           0       0.00      0.00      0.00     33436\n",
      "           1       0.96      1.00      0.98    893426\n",
      "\n",
      "    accuracy                           0.96    926862\n",
      "   macro avg       0.48      0.50      0.49    926862\n",
      "weighted avg       0.93      0.96      0.95    926862\n",
      "\n"
     ]
    }
   ],
   "source": [
    "y_pred = logit_pipe_new.predict(X_test)\n",
    "print(classification_report(y_test, y_pred))"
   ]
  },
  {
   "cell_type": "code",
   "execution_count": 44,
   "id": "acoustic-knitting",
   "metadata": {},
   "outputs": [
    {
     "name": "stdout",
     "output_type": "stream",
     "text": [
      "              precision    recall  f1-score   support\n",
      "\n",
      "           0       0.22      0.59      0.32     33436\n",
      "           1       0.98      0.92      0.95    893426\n",
      "\n",
      "    accuracy                           0.91    926862\n",
      "   macro avg       0.60      0.76      0.63    926862\n",
      "weighted avg       0.96      0.91      0.93    926862\n",
      "\n"
     ]
    }
   ],
   "source": [
    "new_thr = 0.887758\n",
    "y_pred088 = np.where(logit_pipe_new.predict_proba(X_test)[:,1]>new_thr, 1, 0)\n",
    "print(classification_report(y_test, y_pred088))"
   ]
  },
  {
   "cell_type": "code",
   "execution_count": 45,
   "id": "obvious-israeli",
   "metadata": {},
   "outputs": [],
   "source": [
    "test = pd.read_csv('data_test.csv')"
   ]
  },
  {
   "cell_type": "code",
   "execution_count": 46,
   "id": "focal-monaco",
   "metadata": {},
   "outputs": [
    {
     "data": {
      "text/html": [
       "<div>\n",
       "<style scoped>\n",
       "    .dataframe tbody tr th:only-of-type {\n",
       "        vertical-align: middle;\n",
       "    }\n",
       "\n",
       "    .dataframe tbody tr th {\n",
       "        vertical-align: top;\n",
       "    }\n",
       "\n",
       "    .dataframe thead th {\n",
       "        text-align: right;\n",
       "    }\n",
       "</style>\n",
       "<table border=\"1\" class=\"dataframe\">\n",
       "  <thead>\n",
       "    <tr style=\"text-align: right;\">\n",
       "      <th></th>\n",
       "      <th>Ids</th>\n",
       "    </tr>\n",
       "  </thead>\n",
       "  <tbody>\n",
       "    <tr>\n",
       "      <th>0</th>\n",
       "      <td>2e6992a84_2020-11-25_18</td>\n",
       "    </tr>\n",
       "    <tr>\n",
       "      <th>1</th>\n",
       "      <td>2e68e62f4_2020-11-29_20</td>\n",
       "    </tr>\n",
       "    <tr>\n",
       "      <th>2</th>\n",
       "      <td>2e68e81a4_2020-11-27_10</td>\n",
       "    </tr>\n",
       "    <tr>\n",
       "      <th>3</th>\n",
       "      <td>2e69eec04_2020-11-24_7</td>\n",
       "    </tr>\n",
       "    <tr>\n",
       "      <th>4</th>\n",
       "      <td>2e698e4a4_2020-11-27_8</td>\n",
       "    </tr>\n",
       "  </tbody>\n",
       "</table>\n",
       "</div>"
      ],
      "text/plain": [
       "                       Ids\n",
       "0  2e6992a84_2020-11-25_18\n",
       "1  2e68e62f4_2020-11-29_20\n",
       "2  2e68e81a4_2020-11-27_10\n",
       "3   2e69eec04_2020-11-24_7\n",
       "4   2e698e4a4_2020-11-27_8"
      ]
     },
     "execution_count": 46,
     "metadata": {},
     "output_type": "execute_result"
    }
   ],
   "source": [
    "test.head()"
   ]
  },
  {
   "cell_type": "code",
   "execution_count": 47,
   "id": "stopped-guard",
   "metadata": {},
   "outputs": [
    {
     "data": {
      "text/plain": [
       "0        [2e6992a84, 2020-11-25, 18]\n",
       "1        [2e68e62f4, 2020-11-29, 20]\n",
       "2        [2e68e81a4, 2020-11-27, 10]\n",
       "3         [2e69eec04, 2020-11-24, 7]\n",
       "4         [2e698e4a4, 2020-11-27, 8]\n",
       "                    ...             \n",
       "13836     [2e68dd414, 2020-11-26, 5]\n",
       "13837    [2e698541c, 2020-11-24, 22]\n",
       "13838    [2e69e8e0c, 2020-11-24, 10]\n",
       "13839    [2e699a1cc, 2020-11-24, 18]\n",
       "13840    [2e698d804, 2020-11-25, 19]\n",
       "Name: Ids, Length: 13841, dtype: object"
      ]
     },
     "execution_count": 47,
     "metadata": {},
     "output_type": "execute_result"
    }
   ],
   "source": [
    "test['Ids'].str.split('_')"
   ]
  },
  {
   "cell_type": "code",
   "execution_count": 48,
   "id": "geological-philippines",
   "metadata": {},
   "outputs": [],
   "source": [
    "import s2cell"
   ]
  },
  {
   "cell_type": "code",
   "execution_count": 49,
   "id": "anonymous-seven",
   "metadata": {},
   "outputs": [],
   "source": [
    "def ids_to_df(df):\n",
    "    test_df2 = pd.DataFrame()\n",
    "    test_df2['s2cell_token'] = df['Ids'].str.split('_').apply(lambda x: x[0])\n",
    "    test_df2['date'] = df['Ids'].str.split('_').apply(lambda x: x[1])\n",
    "    test_df2['date'] = test_df2['date'].str.split('-')\n",
    "    test_df2['hour'] = df['Ids'].str.split('_').apply(lambda x: x[2])\n",
    "    \n",
    "    test_df2['year'] = test_df2['date'].apply(lambda x: int(x[0]))\n",
    "    test_df2['month'] = test_df2['date'].apply(lambda x: int(x[1]))\n",
    "    test_df2['day'] = test_df2['date'].apply(lambda x: int(x[2]))\n",
    "    test_df2['hour'] = test_df2['hour'].astype('int')\n",
    "    \n",
    "    test_df2['lat'] = test_df2['s2cell_token'].apply(s2cell.token_to_lat_lon).apply(lambda x: x[0])\n",
    "    test_df2['lon'] = test_df2['s2cell_token'].apply(s2cell.token_to_lat_lon).apply(lambda x: x[1])\n",
    "    \n",
    "    test_df2['x'] = np.cos(test_df2['lat']) * np.cos(test_df2['lon'])\n",
    "    test_df2['y'] = np.cos(test_df2['lat']) * np.sin(test_df2['lon'])\n",
    "    test_df2['z'] = np.sin(test_df2['lat'])\n",
    "    \n",
    "    test_df2 = test_df2[['x', 'y', 'z', 'day', 'month', 'hour']]\n",
    "    \n",
    "    return test_df2"
   ]
  },
  {
   "cell_type": "code",
   "execution_count": 50,
   "id": "european-snapshot",
   "metadata": {},
   "outputs": [
    {
     "data": {
      "text/html": [
       "<div>\n",
       "<style scoped>\n",
       "    .dataframe tbody tr th:only-of-type {\n",
       "        vertical-align: middle;\n",
       "    }\n",
       "\n",
       "    .dataframe tbody tr th {\n",
       "        vertical-align: top;\n",
       "    }\n",
       "\n",
       "    .dataframe thead th {\n",
       "        text-align: right;\n",
       "    }\n",
       "</style>\n",
       "<table border=\"1\" class=\"dataframe\">\n",
       "  <thead>\n",
       "    <tr style=\"text-align: right;\">\n",
       "      <th></th>\n",
       "      <th>x</th>\n",
       "      <th>y</th>\n",
       "      <th>z</th>\n",
       "      <th>day</th>\n",
       "      <th>month</th>\n",
       "      <th>hour_y</th>\n",
       "    </tr>\n",
       "  </thead>\n",
       "  <tbody>\n",
       "    <tr>\n",
       "      <th>2822620</th>\n",
       "      <td>0.556439</td>\n",
       "      <td>0.549660</td>\n",
       "      <td>-0.623097</td>\n",
       "      <td>2</td>\n",
       "      <td>10</td>\n",
       "      <td>18</td>\n",
       "    </tr>\n",
       "    <tr>\n",
       "      <th>152859</th>\n",
       "      <td>0.562794</td>\n",
       "      <td>0.572634</td>\n",
       "      <td>-0.596115</td>\n",
       "      <td>30</td>\n",
       "      <td>10</td>\n",
       "      <td>10</td>\n",
       "    </tr>\n",
       "  </tbody>\n",
       "</table>\n",
       "</div>"
      ],
      "text/plain": [
       "                x         y         z  day  month  hour_y\n",
       "2822620  0.556439  0.549660 -0.623097    2     10      18\n",
       "152859   0.562794  0.572634 -0.596115   30     10      10"
      ]
     },
     "execution_count": 50,
     "metadata": {},
     "output_type": "execute_result"
    }
   ],
   "source": [
    "X_train_val.head(2)"
   ]
  },
  {
   "cell_type": "code",
   "execution_count": 51,
   "id": "advised-patient",
   "metadata": {},
   "outputs": [
    {
     "data": {
      "text/html": [
       "<div>\n",
       "<style scoped>\n",
       "    .dataframe tbody tr th:only-of-type {\n",
       "        vertical-align: middle;\n",
       "    }\n",
       "\n",
       "    .dataframe tbody tr th {\n",
       "        vertical-align: top;\n",
       "    }\n",
       "\n",
       "    .dataframe thead th {\n",
       "        text-align: right;\n",
       "    }\n",
       "</style>\n",
       "<table border=\"1\" class=\"dataframe\">\n",
       "  <thead>\n",
       "    <tr style=\"text-align: right;\">\n",
       "      <th></th>\n",
       "      <th>x</th>\n",
       "      <th>y</th>\n",
       "      <th>z</th>\n",
       "      <th>day</th>\n",
       "      <th>month</th>\n",
       "      <th>hour_y</th>\n",
       "    </tr>\n",
       "  </thead>\n",
       "  <tbody>\n",
       "    <tr>\n",
       "      <th>0</th>\n",
       "      <td>0.973706</td>\n",
       "      <td>0.227431</td>\n",
       "      <td>0.013097</td>\n",
       "      <td>25</td>\n",
       "      <td>9</td>\n",
       "      <td>10</td>\n",
       "    </tr>\n",
       "    <tr>\n",
       "      <th>1</th>\n",
       "      <td>0.973706</td>\n",
       "      <td>0.227431</td>\n",
       "      <td>0.013097</td>\n",
       "      <td>25</td>\n",
       "      <td>9</td>\n",
       "      <td>10</td>\n",
       "    </tr>\n",
       "    <tr>\n",
       "      <th>2</th>\n",
       "      <td>0.973706</td>\n",
       "      <td>0.227431</td>\n",
       "      <td>0.013097</td>\n",
       "      <td>25</td>\n",
       "      <td>9</td>\n",
       "      <td>10</td>\n",
       "    </tr>\n",
       "    <tr>\n",
       "      <th>3</th>\n",
       "      <td>0.973706</td>\n",
       "      <td>0.227431</td>\n",
       "      <td>0.013097</td>\n",
       "      <td>25</td>\n",
       "      <td>9</td>\n",
       "      <td>10</td>\n",
       "    </tr>\n",
       "    <tr>\n",
       "      <th>4</th>\n",
       "      <td>0.973706</td>\n",
       "      <td>0.227431</td>\n",
       "      <td>0.013097</td>\n",
       "      <td>25</td>\n",
       "      <td>9</td>\n",
       "      <td>10</td>\n",
       "    </tr>\n",
       "  </tbody>\n",
       "</table>\n",
       "</div>"
      ],
      "text/plain": [
       "          x         y         z  day  month  hour_y\n",
       "0  0.973706  0.227431  0.013097   25      9      10\n",
       "1  0.973706  0.227431  0.013097   25      9      10\n",
       "2  0.973706  0.227431  0.013097   25      9      10\n",
       "3  0.973706  0.227431  0.013097   25      9      10\n",
       "4  0.973706  0.227431  0.013097   25      9      10"
      ]
     },
     "execution_count": 51,
     "metadata": {},
     "output_type": "execute_result"
    }
   ],
   "source": [
    "X.head()"
   ]
  },
  {
   "cell_type": "code",
   "execution_count": 52,
   "id": "architectural-approach",
   "metadata": {},
   "outputs": [
    {
     "name": "stderr",
     "output_type": "stream",
     "text": [
      "C:\\Users\\R7891\\Anaconda3\\lib\\site-packages\\sklearn\\linear_model\\_logistic.py:764: ConvergenceWarning: lbfgs failed to converge (status=1):\n",
      "STOP: TOTAL NO. of ITERATIONS REACHED LIMIT.\n",
      "\n",
      "Increase the number of iterations (max_iter) or scale the data as shown in:\n",
      "    https://scikit-learn.org/stable/modules/preprocessing.html\n",
      "Please also refer to the documentation for alternative solver options:\n",
      "    https://scikit-learn.org/stable/modules/linear_model.html#logistic-regression\n",
      "  extra_warning_msg=_LOGISTIC_SOLVER_CONVERGENCE_MSG)\n"
     ]
    },
    {
     "data": {
      "text/plain": [
       "Pipeline(steps=[('trans',\n",
       "                 ColumnTransformer(remainder='passthrough',\n",
       "                                   transformers=[('poly',\n",
       "                                                  PolynomialFeatures(include_bias=False),\n",
       "                                                  ['x', 'y', 'z']),\n",
       "                                                 ('kbins',\n",
       "                                                  KBinsDiscretizer(encode='ordinal',\n",
       "                                                                   n_bins=3,\n",
       "                                                                   strategy='uniform'),\n",
       "                                                  ['day', 'hour_y'])])),\n",
       "                ('clf', LogisticRegression(random_state=2020))])"
      ]
     },
     "execution_count": 52,
     "metadata": {},
     "output_type": "execute_result"
    }
   ],
   "source": [
    "logit_pipe_new.fit(X,y)"
   ]
  },
  {
   "cell_type": "code",
   "execution_count": 53,
   "id": "affecting-funeral",
   "metadata": {},
   "outputs": [
    {
     "data": {
      "text/html": [
       "<div>\n",
       "<style scoped>\n",
       "    .dataframe tbody tr th:only-of-type {\n",
       "        vertical-align: middle;\n",
       "    }\n",
       "\n",
       "    .dataframe tbody tr th {\n",
       "        vertical-align: top;\n",
       "    }\n",
       "\n",
       "    .dataframe thead th {\n",
       "        text-align: right;\n",
       "    }\n",
       "</style>\n",
       "<table border=\"1\" class=\"dataframe\">\n",
       "  <thead>\n",
       "    <tr style=\"text-align: right;\">\n",
       "      <th></th>\n",
       "      <th>x</th>\n",
       "      <th>y</th>\n",
       "      <th>z</th>\n",
       "      <th>day</th>\n",
       "      <th>month</th>\n",
       "      <th>hour_y</th>\n",
       "    </tr>\n",
       "  </thead>\n",
       "  <tbody>\n",
       "    <tr>\n",
       "      <th>0</th>\n",
       "      <td>0.994031</td>\n",
       "      <td>0.108207</td>\n",
       "      <td>-0.013921</td>\n",
       "      <td>25</td>\n",
       "      <td>11</td>\n",
       "      <td>18</td>\n",
       "    </tr>\n",
       "    <tr>\n",
       "      <th>1</th>\n",
       "      <td>0.561143</td>\n",
       "      <td>0.574345</td>\n",
       "      <td>-0.596025</td>\n",
       "      <td>29</td>\n",
       "      <td>11</td>\n",
       "      <td>20</td>\n",
       "    </tr>\n",
       "    <tr>\n",
       "      <th>2</th>\n",
       "      <td>0.525794</td>\n",
       "      <td>0.591784</td>\n",
       "      <td>-0.611009</td>\n",
       "      <td>27</td>\n",
       "      <td>11</td>\n",
       "      <td>10</td>\n",
       "    </tr>\n",
       "    <tr>\n",
       "      <th>3</th>\n",
       "      <td>0.996602</td>\n",
       "      <td>-0.021315</td>\n",
       "      <td>-0.079557</td>\n",
       "      <td>24</td>\n",
       "      <td>11</td>\n",
       "      <td>7</td>\n",
       "    </tr>\n",
       "    <tr>\n",
       "      <th>4</th>\n",
       "      <td>0.972344</td>\n",
       "      <td>0.233176</td>\n",
       "      <td>0.013294</td>\n",
       "      <td>27</td>\n",
       "      <td>11</td>\n",
       "      <td>8</td>\n",
       "    </tr>\n",
       "  </tbody>\n",
       "</table>\n",
       "</div>"
      ],
      "text/plain": [
       "          x         y         z  day  month  hour_y\n",
       "0  0.994031  0.108207 -0.013921   25     11      18\n",
       "1  0.561143  0.574345 -0.596025   29     11      20\n",
       "2  0.525794  0.591784 -0.611009   27     11      10\n",
       "3  0.996602 -0.021315 -0.079557   24     11       7\n",
       "4  0.972344  0.233176  0.013294   27     11       8"
      ]
     },
     "execution_count": 53,
     "metadata": {},
     "output_type": "execute_result"
    }
   ],
   "source": [
    "new_test = ids_to_df(test)\n",
    "new_test.rename(columns={'hour': 'hour_y'}, inplace=True)\n",
    "new_test.head()"
   ]
  },
  {
   "cell_type": "code",
   "execution_count": 70,
   "id": "oriented-maryland",
   "metadata": {},
   "outputs": [],
   "source": [
    "ready.drop('Unnamed: 0', axis=1).to_csv('new_ready.csv', index=False)"
   ]
  },
  {
   "cell_type": "code",
   "execution_count": 68,
   "id": "homeless-parcel",
   "metadata": {},
   "outputs": [],
   "source": [
    "new_test.to_csv('new_test.csv', index=False)"
   ]
  },
  {
   "cell_type": "code",
   "execution_count": 54,
   "id": "simplified-italic",
   "metadata": {},
   "outputs": [],
   "source": [
    "final_pred = np.where(logit_pipe_new.predict_proba(new_test)[:,1]>new_thr, True, False)"
   ]
  },
  {
   "cell_type": "code",
   "execution_count": 55,
   "id": "olympic-purpose",
   "metadata": {},
   "outputs": [
    {
     "data": {
      "text/html": [
       "<div>\n",
       "<style scoped>\n",
       "    .dataframe tbody tr th:only-of-type {\n",
       "        vertical-align: middle;\n",
       "    }\n",
       "\n",
       "    .dataframe tbody tr th {\n",
       "        vertical-align: top;\n",
       "    }\n",
       "\n",
       "    .dataframe thead th {\n",
       "        text-align: right;\n",
       "    }\n",
       "</style>\n",
       "<table border=\"1\" class=\"dataframe\">\n",
       "  <thead>\n",
       "    <tr style=\"text-align: right;\">\n",
       "      <th></th>\n",
       "      <th>Ids</th>\n",
       "      <th>Labels</th>\n",
       "    </tr>\n",
       "  </thead>\n",
       "  <tbody>\n",
       "    <tr>\n",
       "      <th>0</th>\n",
       "      <td>2e6992a84_2020-11-25_18</td>\n",
       "      <td>True</td>\n",
       "    </tr>\n",
       "    <tr>\n",
       "      <th>1</th>\n",
       "      <td>2e68e62f4_2020-11-29_20</td>\n",
       "      <td>True</td>\n",
       "    </tr>\n",
       "    <tr>\n",
       "      <th>2</th>\n",
       "      <td>2e68e81a4_2020-11-27_10</td>\n",
       "      <td>False</td>\n",
       "    </tr>\n",
       "    <tr>\n",
       "      <th>3</th>\n",
       "      <td>2e69eec04_2020-11-24_7</td>\n",
       "      <td>False</td>\n",
       "    </tr>\n",
       "    <tr>\n",
       "      <th>4</th>\n",
       "      <td>2e698e4a4_2020-11-27_8</td>\n",
       "      <td>True</td>\n",
       "    </tr>\n",
       "  </tbody>\n",
       "</table>\n",
       "</div>"
      ],
      "text/plain": [
       "                       Ids  Labels\n",
       "0  2e6992a84_2020-11-25_18    True\n",
       "1  2e68e62f4_2020-11-29_20    True\n",
       "2  2e68e81a4_2020-11-27_10   False\n",
       "3   2e69eec04_2020-11-24_7   False\n",
       "4   2e698e4a4_2020-11-27_8    True"
      ]
     },
     "execution_count": 55,
     "metadata": {},
     "output_type": "execute_result"
    }
   ],
   "source": [
    "test['Labels'] = final_pred\n",
    "test.head()"
   ]
  },
  {
   "cell_type": "code",
   "execution_count": 56,
   "id": "mysterious-acquisition",
   "metadata": {},
   "outputs": [],
   "source": [
    "test.to_csv('submit.csv', index=False)"
   ]
  },
  {
   "cell_type": "markdown",
   "id": "textile-diagram",
   "metadata": {},
   "source": [
    "## IMPROVING!"
   ]
  },
  {
   "cell_type": "markdown",
   "id": "statistical-trance",
   "metadata": {},
   "source": [
    "## Use `SMOTE` and Hyperparam Tuning"
   ]
  },
  {
   "cell_type": "code",
   "execution_count": 57,
   "id": "controversial-spare",
   "metadata": {},
   "outputs": [],
   "source": [
    "transformer = ColumnTransformer([\n",
    "        ('poly', PolynomialFeatures(degree=2, include_bias=False), ['x','y','z']),\n",
    "        ('kbins', kbins, ['day','hour_y'])\n",
    "], remainder='passthrough')\n",
    "\n",
    "logit_smo = Pipeline([\n",
    "    ('trans', transformer),\n",
    "    ('smote', SMOTE(random_state=2020)),\n",
    "    ('clf', LogisticRegression(random_state=2020))\n",
    "])"
   ]
  },
  {
   "cell_type": "code",
   "execution_count": 58,
   "id": "certain-marking",
   "metadata": {},
   "outputs": [
    {
     "name": "stderr",
     "output_type": "stream",
     "text": [
      "[Parallel(n_jobs=-1)]: Using backend LokyBackend with 4 concurrent workers.\n",
      "[Parallel(n_jobs=-1)]: Done   5 out of   5 | elapsed:  6.8min finished\n"
     ]
    }
   ],
   "source": [
    "logit_smo_cv = cross_val_score(logit_smo, X_train_val, y_train_val, cv=skf, n_jobs=-1, verbose=1, scoring='f1')"
   ]
  },
  {
   "cell_type": "code",
   "execution_count": 59,
   "id": "legal-million",
   "metadata": {},
   "outputs": [
    {
     "name": "stdout",
     "output_type": "stream",
     "text": [
      "Logit Smo score CV: [0.8345257  0.83662054 0.83578327 0.83805588 0.83641327]\n",
      "Logit Smo score CV mean: 0.8362797305099626\n",
      "Logit Smo Bins score CV std: 0.0011499381649442712\n"
     ]
    }
   ],
   "source": [
    "print('Logit Smo score CV:', logit_smo_cv)\n",
    "print('Logit Smo score CV mean:', logit_smo_cv.mean())\n",
    "print('Logit Smo Bins score CV std:', logit_smo_cv.std())"
   ]
  },
  {
   "cell_type": "code",
   "execution_count": 60,
   "id": "inside-spider",
   "metadata": {},
   "outputs": [
    {
     "name": "stderr",
     "output_type": "stream",
     "text": [
      "C:\\Users\\R7891\\Anaconda3\\lib\\site-packages\\sklearn\\linear_model\\_logistic.py:764: ConvergenceWarning: lbfgs failed to converge (status=1):\n",
      "STOP: TOTAL NO. of ITERATIONS REACHED LIMIT.\n",
      "\n",
      "Increase the number of iterations (max_iter) or scale the data as shown in:\n",
      "    https://scikit-learn.org/stable/modules/preprocessing.html\n",
      "Please also refer to the documentation for alternative solver options:\n",
      "    https://scikit-learn.org/stable/modules/linear_model.html#logistic-regression\n",
      "  extra_warning_msg=_LOGISTIC_SOLVER_CONVERGENCE_MSG)\n"
     ]
    },
    {
     "data": {
      "text/plain": [
       "Pipeline(steps=[('trans',\n",
       "                 ColumnTransformer(remainder='passthrough',\n",
       "                                   transformers=[('poly',\n",
       "                                                  PolynomialFeatures(include_bias=False),\n",
       "                                                  ['x', 'y', 'z']),\n",
       "                                                 ('kbins',\n",
       "                                                  KBinsDiscretizer(encode='ordinal',\n",
       "                                                                   n_bins=3,\n",
       "                                                                   strategy='uniform'),\n",
       "                                                  ['day', 'hour_y'])])),\n",
       "                ('smote', SMOTE(random_state=2020)),\n",
       "                ('clf', LogisticRegression(random_state=2020))])"
      ]
     },
     "execution_count": 60,
     "metadata": {},
     "output_type": "execute_result"
    }
   ],
   "source": [
    "logit_smo.fit(X_train_val, y_train_val)"
   ]
  },
  {
   "cell_type": "code",
   "execution_count": 61,
   "id": "described-press",
   "metadata": {},
   "outputs": [
    {
     "name": "stdout",
     "output_type": "stream",
     "text": [
      "              precision    recall  f1-score   support\n",
      "\n",
      "           0       0.10      0.78      0.17     33436\n",
      "           1       0.99      0.73      0.84    893426\n",
      "\n",
      "    accuracy                           0.73    926862\n",
      "   macro avg       0.54      0.75      0.50    926862\n",
      "weighted avg       0.96      0.73      0.81    926862\n",
      "\n"
     ]
    }
   ],
   "source": [
    "logitsmo_pred = logit_smo.predict(X_test)\n",
    "print(classification_report(y_test, logitsmo_pred))"
   ]
  },
  {
   "cell_type": "code",
   "execution_count": 62,
   "id": "close-semiconductor",
   "metadata": {},
   "outputs": [
    {
     "data": {
      "text/plain": [
       "<sklearn.metrics._plot.roc_curve.RocCurveDisplay at 0x1eab47eea08>"
      ]
     },
     "execution_count": 62,
     "metadata": {},
     "output_type": "execute_result"
    },
    {
     "data": {
      "image/png": "[encoded data removed]",
      "text/plain": [
       "<Figure size 432x288 with 1 Axes>"
      ]
     },
     "metadata": {
      "needs_background": "light"
     },
     "output_type": "display_data"
    }
   ],
   "source": [
    "plot_roc_curve(logit_smo, X_test, y_test)"
   ]
  },
  {
   "cell_type": "code",
   "execution_count": 63,
   "id": "engaging-pendant",
   "metadata": {},
   "outputs": [
    {
     "data": {
      "text/html": [
       "<div>\n",
       "<style scoped>\n",
       "    .dataframe tbody tr th:only-of-type {\n",
       "        vertical-align: middle;\n",
       "    }\n",
       "\n",
       "    .dataframe tbody tr th {\n",
       "        vertical-align: top;\n",
       "    }\n",
       "\n",
       "    .dataframe thead th {\n",
       "        text-align: right;\n",
       "    }\n",
       "</style>\n",
       "<table border=\"1\" class=\"dataframe\">\n",
       "  <thead>\n",
       "    <tr style=\"text-align: right;\">\n",
       "      <th></th>\n",
       "      <th>fpr</th>\n",
       "      <th>tpr</th>\n",
       "      <th>threshold</th>\n",
       "    </tr>\n",
       "  </thead>\n",
       "  <tbody>\n",
       "    <tr>\n",
       "      <th>2381</th>\n",
       "      <td>0.315409</td>\n",
       "      <td>0.900040</td>\n",
       "      <td>0.303140</td>\n",
       "    </tr>\n",
       "    <tr>\n",
       "      <th>2382</th>\n",
       "      <td>0.315409</td>\n",
       "      <td>0.900907</td>\n",
       "      <td>0.302436</td>\n",
       "    </tr>\n",
       "    <tr>\n",
       "      <th>2383</th>\n",
       "      <td>0.315409</td>\n",
       "      <td>0.901263</td>\n",
       "      <td>0.302377</td>\n",
       "    </tr>\n",
       "    <tr>\n",
       "      <th>2384</th>\n",
       "      <td>0.315409</td>\n",
       "      <td>0.901339</td>\n",
       "      <td>0.301439</td>\n",
       "    </tr>\n",
       "    <tr>\n",
       "      <th>2385</th>\n",
       "      <td>0.315409</td>\n",
       "      <td>0.902604</td>\n",
       "      <td>0.300414</td>\n",
       "    </tr>\n",
       "  </tbody>\n",
       "</table>\n",
       "</div>"
      ],
      "text/plain": [
       "           fpr       tpr  threshold\n",
       "2381  0.315409  0.900040   0.303140\n",
       "2382  0.315409  0.900907   0.302436\n",
       "2383  0.315409  0.901263   0.302377\n",
       "2384  0.315409  0.901339   0.301439\n",
       "2385  0.315409  0.902604   0.300414"
      ]
     },
     "execution_count": 63,
     "metadata": {},
     "output_type": "execute_result"
    }
   ],
   "source": [
    "fpr, tpr, t = roc_curve(y_test, logit_smo.predict_proba(X_test)[:,1])\n",
    "\n",
    "roc_df_logitsmo = pd.DataFrame({'fpr': fpr, 'tpr': tpr, 'threshold': t})\n",
    "roc_df_logitsmo[roc_df_logitsmo['tpr']>= 0.9].sort_values('fpr').head()"
   ]
  },
  {
   "cell_type": "code",
   "execution_count": 64,
   "id": "allied-paris",
   "metadata": {},
   "outputs": [
    {
     "data": {
      "text/plain": [
       "array([0.00000000e+00, 2.10425933e-04, 2.49600974e-04, ...,\n",
       "       9.99913815e-01, 9.99944036e-01, 1.00000000e+00])"
      ]
     },
     "execution_count": 64,
     "metadata": {},
     "output_type": "execute_result"
    }
   ],
   "source": [
    "tpr"
   ]
  },
  {
   "cell_type": "code",
   "execution_count": 65,
   "id": "conceptual-mouth",
   "metadata": {},
   "outputs": [],
   "source": [
    "new_thr_smo = 0.273992"
   ]
  }
 ],
 "metadata": {
  "kernelspec": {
   "display_name": "Python 3",
   "language": "python",
   "name": "python3"
  },
  "language_info": {
   "codemirror_mode": {
    "name": "ipython",
    "version": 3
   },
   "file_extension": ".py",
   "mimetype": "text/x-python",
   "name": "python",
   "nbconvert_exporter": "python",
   "pygments_lexer": "ipython3",
   "version": "3.7.4"
  }
 },
 "nbformat": 4,
 "nbformat_minor": 5
}
