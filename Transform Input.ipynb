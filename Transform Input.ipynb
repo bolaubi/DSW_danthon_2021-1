{
 "cells": [
  {
   "cell_type": "code",
   "execution_count": 2,
   "metadata": {},
   "outputs": [],
   "source": [
    "import numpy as np\n",
    "import pandas as pd\n",
    "\n",
    "import s2cell\n",
    "from datetime import datetime as dt\n",
    "from math import sin, cos"
   ]
  },
  {
   "cell_type": "code",
   "execution_count": 3,
   "metadata": {},
   "outputs": [],
   "source": [
    "def transform(X):\n",
    "    result = X.copy()\n",
    "    result[['s2token', 'date', 'hour']] = X.Ids.str.split('_', expand=True)\n",
    "    result[['year', 'month', 'day']] = result['date'].str.split('-', expand=True)\n",
    "    result['lat'] = result['s2token'].apply(lambda x: s2cell.token_to_lat_lon(x)[0])\n",
    "    result['long'] = result['s2token'].apply(lambda x: s2cell.token_to_lat_lon(x)[1])\n",
    "    result['x'] = result['lat'].apply(cos) * result['long'].apply(cos)\n",
    "    result['y'] = result['lat'].apply(cos) * result['long'].apply(sin)\n",
    "    result['z'] = result['lat'].apply(sin)\n",
    "    \n",
    "    # Convert datatypes\n",
    "    result['date'] = pd.to_datetime(result['date'])\n",
    "    result[['hour', 'month', 'day']] = result[['hour', 'month', 'day']].astype(int)\n",
    "    \n",
    "    # Add\n",
    "    ## weekend\n",
    "    result['weekend'] = result['date'].apply(lambda x: x.weekday() >= 5)\n",
    "    \n",
    "    ## holiday Sep2020 - Nov2020 (No holiday in Nov2020)\n",
    "#     start = dt.strptime(\"2020-10-28\", \"%Y-%m-%d\")\n",
    "#     end = dt.strptime(\"2020-10-30\", \"%Y-%m-%d\")\n",
    "#     result['holiday'] = result['date'].apply(lambda x: start <= x <= end)\n",
    "\n",
    "    ## working_hour\n",
    "    result['working_hour'] = result['hour'].apply(lambda x: 9<=x<=17)\n",
    "    \n",
    "    ## high_commute\n",
    "    result['high_commute'] = result['hour'].apply(lambda x: 7<=x<=8 or 18<=x<=19)\n",
    "    \n",
    "    # Delete\n",
    "    result = result.drop(['Ids', 's2token', 'year', 'lat', 'long', 'date'], axis=1)\n",
    "    \n",
    "    return result"
   ]
  }
 ],
 "metadata": {
  "kernelspec": {
   "display_name": "Python 3",
   "language": "python",
   "name": "python3"
  },
  "language_info": {
   "codemirror_mode": {
    "name": "ipython",
    "version": 3
   },
   "file_extension": ".py",
   "mimetype": "text/x-python",
   "name": "python",
   "nbconvert_exporter": "python",
   "pygments_lexer": "ipython3",
   "version": "3.9.1"
  },
  "toc": {
   "base_numbering": 1,
   "nav_menu": {},
   "number_sections": true,
   "sideBar": true,
   "skip_h1_title": false,
   "title_cell": "Table of Contents",
   "title_sidebar": "Contents",
   "toc_cell": false,
   "toc_position": {},
   "toc_section_display": true,
   "toc_window_display": false
  }
 },
 "nbformat": 4,
 "nbformat_minor": 4
}
